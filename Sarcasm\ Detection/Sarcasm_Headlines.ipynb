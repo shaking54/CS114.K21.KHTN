{
  "nbformat": 4,
  "nbformat_minor": 0,
  "metadata": {
    "colab": {
      "name": "Sarcasm_Headlines",
      "provenance": [],
      "collapsed_sections": [],
      "toc_visible": true,
      "machine_shape": "hm",
      "mount_file_id": "1xMBsWe3rKD2fhodMBdLfqPLD_UNfOfT2",
      "authorship_tag": "ABX9TyN/+Ylqq84JjwFFnCp2GdHH",
      "include_colab_link": true
    },
    "kernelspec": {
      "name": "python3",
      "display_name": "Python 3"
    }
  },
  "cells": [
    {
      "cell_type": "markdown",
      "metadata": {
        "id": "view-in-github",
        "colab_type": "text"
      },
      "source": [
        "<a href=\"https://colab.research.google.com/github/shaking54/CS114.K21.KHTN/blob/master/Sarcasm%5C%20Detection/Sarcasm_Headlines.ipynb\" target=\"_parent\"><img src=\"https://colab.research.google.com/assets/colab-badge.svg\" alt=\"Open In Colab\"/></a>"
      ]
    },
    {
      "cell_type": "markdown",
      "metadata": {
        "id": "XlcE7wgBExyp",
        "colab_type": "text"
      },
      "source": [
        "#*Sarcasm Dectection\n",
        "https://www.kaggle.com/rmisra/news-headlines-dataset-for-sarcasm-detection\n",
        "\n",
        "- Input bài toán: Một chuỗi string\n",
        "\n",
        "- Output: Chuỗi string nhận được có mang tính Sarcastic hay không\n",
        "\n",
        "####*Thu thập dữ liệu\n",
        "\n",
        "- Dữ liệu cũ về Sarcasm dectection được lấy từ Twitters. Tuy nhiên, do dữ liệu này có độ nhiễu nên vẫn còn hạn chế. Để vượt qua được điểm này thì dữ liệu mới về Sarcasm detection được lấy từ 2 websites đó là https://www.theonion.com/ và https://www.huffpost.com . Về dữ liệu mang tính Sarcastic thì được lấy từ trang web TheOnion ở trong mục News in Brief và News in Photos categories. Còn dữ liệu không mang tính Sarcastic thì được lấy từ trang web HuffPost.\n"
      ]
    },
    {
      "cell_type": "code",
      "metadata": {
        "id": "fSodQJ-NY27Y",
        "colab_type": "code",
        "colab": {
          "base_uri": "https://localhost:8080/",
          "height": 204
        },
        "outputId": "a7ad1514-52f5-426c-b522-fa52cc853b34"
      },
      "source": [
        "!wget https://raw.githubusercontent.com/shaking54/CS114.K21.KHTN/master/Sarcasm%20Detection/Sarcasm_Headlines_Dataset.json"
      ],
      "execution_count": 127,
      "outputs": [
        {
          "output_type": "stream",
          "text": [
            "--2020-06-25 07:55:19--  https://raw.githubusercontent.com/shaking54/CS114.K21.KHTN/master/Sarcasm%20Detection/Sarcasm_Headlines_Dataset.json\n",
            "Resolving raw.githubusercontent.com (raw.githubusercontent.com)... 151.101.0.133, 151.101.64.133, 151.101.128.133, ...\n",
            "Connecting to raw.githubusercontent.com (raw.githubusercontent.com)|151.101.0.133|:443... connected.\n",
            "HTTP request sent, awaiting response... 200 OK\n",
            "Length: 5616830 (5.4M) [text/plain]\n",
            "Saving to: ‘Sarcasm_Headlines_Dataset.json.1’\n",
            "\n",
            "\r          Sarcasm_H   0%[                    ]       0  --.-KB/s               \r         Sarcasm_He  62%[===========>        ]   3.37M  16.9MB/s               \rSarcasm_Headlines_D 100%[===================>]   5.36M  20.3MB/s    in 0.3s    \n",
            "\n",
            "2020-06-25 07:55:20 (20.3 MB/s) - ‘Sarcasm_Headlines_Dataset.json.1’ saved [5616830/5616830]\n",
            "\n"
          ],
          "name": "stdout"
        }
      ]
    },
    {
      "cell_type": "code",
      "metadata": {
        "id": "vxdXVGzwlrm-",
        "colab_type": "code",
        "colab": {
          "base_uri": "https://localhost:8080/",
          "height": 204
        },
        "outputId": "b0d8d4ed-7ee9-46cd-9a65-03c55975de7d"
      },
      "source": [
        "import pandas as pd\n",
        "data=pd.read_json('/content/Sarcasm_Headlines_Dataset.json', lines=True) #Load dataset from json file\n",
        "data.head() #get 5 samples from dataset"
      ],
      "execution_count": 128,
      "outputs": [
        {
          "output_type": "execute_result",
          "data": {
            "text/html": [
              "<div>\n",
              "<style scoped>\n",
              "    .dataframe tbody tr th:only-of-type {\n",
              "        vertical-align: middle;\n",
              "    }\n",
              "\n",
              "    .dataframe tbody tr th {\n",
              "        vertical-align: top;\n",
              "    }\n",
              "\n",
              "    .dataframe thead th {\n",
              "        text-align: right;\n",
              "    }\n",
              "</style>\n",
              "<table border=\"1\" class=\"dataframe\">\n",
              "  <thead>\n",
              "    <tr style=\"text-align: right;\">\n",
              "      <th></th>\n",
              "      <th>article_link</th>\n",
              "      <th>headline</th>\n",
              "      <th>is_sarcastic</th>\n",
              "    </tr>\n",
              "  </thead>\n",
              "  <tbody>\n",
              "    <tr>\n",
              "      <th>0</th>\n",
              "      <td>https://www.huffingtonpost.com/entry/versace-b...</td>\n",
              "      <td>former versace store clerk sues over secret 'b...</td>\n",
              "      <td>0</td>\n",
              "    </tr>\n",
              "    <tr>\n",
              "      <th>1</th>\n",
              "      <td>https://www.huffingtonpost.com/entry/roseanne-...</td>\n",
              "      <td>the 'roseanne' revival catches up to our thorn...</td>\n",
              "      <td>0</td>\n",
              "    </tr>\n",
              "    <tr>\n",
              "      <th>2</th>\n",
              "      <td>https://local.theonion.com/mom-starting-to-fea...</td>\n",
              "      <td>mom starting to fear son's web series closest ...</td>\n",
              "      <td>1</td>\n",
              "    </tr>\n",
              "    <tr>\n",
              "      <th>3</th>\n",
              "      <td>https://politics.theonion.com/boehner-just-wan...</td>\n",
              "      <td>boehner just wants wife to listen, not come up...</td>\n",
              "      <td>1</td>\n",
              "    </tr>\n",
              "    <tr>\n",
              "      <th>4</th>\n",
              "      <td>https://www.huffingtonpost.com/entry/jk-rowlin...</td>\n",
              "      <td>j.k. rowling wishes snape happy birthday in th...</td>\n",
              "      <td>0</td>\n",
              "    </tr>\n",
              "  </tbody>\n",
              "</table>\n",
              "</div>"
            ],
            "text/plain": [
              "                                        article_link  ... is_sarcastic\n",
              "0  https://www.huffingtonpost.com/entry/versace-b...  ...            0\n",
              "1  https://www.huffingtonpost.com/entry/roseanne-...  ...            0\n",
              "2  https://local.theonion.com/mom-starting-to-fea...  ...            1\n",
              "3  https://politics.theonion.com/boehner-just-wan...  ...            1\n",
              "4  https://www.huffingtonpost.com/entry/jk-rowlin...  ...            0\n",
              "\n",
              "[5 rows x 3 columns]"
            ]
          },
          "metadata": {
            "tags": []
          },
          "execution_count": 128
        }
      ]
    },
    {
      "cell_type": "code",
      "metadata": {
        "id": "Af5yMXHEc2Q2",
        "colab_type": "code",
        "colab": {}
      },
      "source": [
        "sarcasm = data.drop(columns='article_link') # drop the column article_link"
      ],
      "execution_count": 129,
      "outputs": []
    },
    {
      "cell_type": "markdown",
      "metadata": {
        "id": "suwkgPmBSAYP",
        "colab_type": "text"
      },
      "source": [
        "##*Xử lý dữ liệu\n",
        "\n",
        "- Các headline sẽ được chuyển về lowercase, loại bỏ các ký tự đặc biệt.\n",
        "- Sau đó sẽ phân chia dữ liệu train và dữ liệu test\n",
        "- Khai báo Vectorize để biểu diễn dữ liệu train dưới dạng vector và tạo một từ điển từ dữ liệu train\n",
        "- Sử dụng lại từ điển của dữ liệu trên để biểu diễn dữ liệu test dưới dạng vector"
      ]
    },
    {
      "cell_type": "code",
      "metadata": {
        "id": "-iapgqXdFHLq",
        "colab_type": "code",
        "colab": {
          "base_uri": "https://localhost:8080/",
          "height": 221
        },
        "outputId": "25cbaf93-7218-44f5-912b-dadcd9135ee5"
      },
      "source": [
        "import re\n",
        "def pre_process(headline):\n",
        "\theadline = headline.lower() # convert the headline to lower case                                      \n",
        "\theadline = re.sub(\"&lt;/?.*?&gt;\",\" &lt;&gt; \", headline) # remove \n",
        "\theadline = re.sub(\"(\\\\d|\\\\WZhe Yang)+\",\" \", headline)                   \n",
        "\treturn headline\n",
        "\n",
        "sarcasm['headline'] = sarcasm['headline'].apply(lambda x:pre_process(x))\n",
        "sarcasm['headline']"
      ],
      "execution_count": 130,
      "outputs": [
        {
          "output_type": "execute_result",
          "data": {
            "text/plain": [
              "0        former versace store clerk sues over secret 'b...\n",
              "1        the 'roseanne' revival catches up to our thorn...\n",
              "2        mom starting to fear son's web series closest ...\n",
              "3        boehner just wants wife to listen, not come up...\n",
              "4        j.k. rowling wishes snape happy birthday in th...\n",
              "                               ...                        \n",
              "26704                 american politics in moral free-fall\n",
              "26705                               america's best   hikes\n",
              "26706                                reparations and obama\n",
              "26707    israeli ban targeting boycott supporters raise...\n",
              "26708                       gourmet gifts for the foodie  \n",
              "Name: headline, Length: 26709, dtype: object"
            ]
          },
          "metadata": {
            "tags": []
          },
          "execution_count": 130
        }
      ]
    },
    {
      "cell_type": "code",
      "metadata": {
        "id": "ttkg8vQOQ35b",
        "colab_type": "code",
        "colab": {}
      },
      "source": [
        "from sklearn.model_selection import train_test_split\n",
        "X = sarcasm['headline']\n",
        "y = sarcasm['is_sarcastic']\n",
        "X_train, X_test, y_train, y_test = train_test_split(X, y, test_size = 0.3) #split train set and test set"
      ],
      "execution_count": 131,
      "outputs": []
    },
    {
      "cell_type": "code",
      "metadata": {
        "id": "IU5pjKWAnI32",
        "colab_type": "code",
        "colab": {}
      },
      "source": [
        "from sklearn.feature_extraction.text import CountVectorizer, TfidfVectorizer\n",
        "\n",
        "vectorizer1 = CountVectorizer(analyzer='word',ngram_range=(1,1), max_features=10000)\n",
        "X_train = vectorizer1.fit_transform(X_train)\n",
        "\n",
        "vectorizer2 = CountVectorizer(vocabulary=vectorizer1.vocabulary_,ngram_range=(1,1))\n",
        "X_test = vectorizer2.fit_transform(X_test)"
      ],
      "execution_count": 132,
      "outputs": []
    },
    {
      "cell_type": "code",
      "metadata": {
        "id": "P7RIb-awkWBU",
        "colab_type": "code",
        "colab": {
          "base_uri": "https://localhost:8080/",
          "height": 34
        },
        "outputId": "1379fb1c-df65-49e1-f531-af4251ad7aab"
      },
      "source": [
        "X_train.shape"
      ],
      "execution_count": 133,
      "outputs": [
        {
          "output_type": "execute_result",
          "data": {
            "text/plain": [
              "(18696, 10000)"
            ]
          },
          "metadata": {
            "tags": []
          },
          "execution_count": 133
        }
      ]
    },
    {
      "cell_type": "markdown",
      "metadata": {
        "id": "UyJzkevSTjCb",
        "colab_type": "text"
      },
      "source": [
        "##Chọn Model để train dữ liệu\n",
        "- Sử dụng các thuật toán như Suport vector classifications, Decision Tree classifications, Random Forest Classification, Voting Classification.\n"
      ]
    },
    {
      "cell_type": "code",
      "metadata": {
        "id": "1EPAIEagFoHL",
        "colab_type": "code",
        "colab": {
          "base_uri": "https://localhost:8080/",
          "height": 34
        },
        "outputId": "aba86bf2-065f-4eac-9fc1-c1c7364a7fa0"
      },
      "source": [
        "from sklearn.metrics import accuracy_score\n",
        "from sklearn.svm import SVC\n",
        "SVClassifiers = SVC()\n",
        "SVClassifiers.fit(X_train, y_train, )\n",
        "SVC_predict = SVClassifiers.predict(X_test)\n",
        "SCV_score = accuracy_score(y_test, SVC_predict)\n",
        "SCV_score"
      ],
      "execution_count": 134,
      "outputs": [
        {
          "output_type": "execute_result",
          "data": {
            "text/plain": [
              "0.8398851865718208"
            ]
          },
          "metadata": {
            "tags": []
          },
          "execution_count": 134
        }
      ]
    },
    {
      "cell_type": "code",
      "metadata": {
        "id": "QosV3PbCciG0",
        "colab_type": "code",
        "colab": {
          "base_uri": "https://localhost:8080/",
          "height": 34
        },
        "outputId": "6863f01d-b003-4e0e-c30b-0ae022446f91"
      },
      "source": [
        "from sklearn.svm import LinearSVC\n",
        "\n",
        "LinearSVClassifier = LinearSVC()\n",
        "LinearSVClassifier.fit(X_train, y_train)\n",
        "Linear_predict = LinearSVClassifier.predict(X_test)\n",
        "Linearscore = accuracy_score(y_test, Linear_predict)\n",
        "Linearscore "
      ],
      "execution_count": 135,
      "outputs": [
        {
          "output_type": "execute_result",
          "data": {
            "text/plain": [
              "0.8154249344814676"
            ]
          },
          "metadata": {
            "tags": []
          },
          "execution_count": 135
        }
      ]
    },
    {
      "cell_type": "code",
      "metadata": {
        "id": "RvMSWp-kev6W",
        "colab_type": "code",
        "colab": {
          "base_uri": "https://localhost:8080/",
          "height": 34
        },
        "outputId": "55c467ec-4290-4f5d-fbff-f7c3731a9985"
      },
      "source": [
        "from sklearn.tree import DecisionTreeClassifier\n",
        "\n",
        "Decisionclassifier = DecisionTreeClassifier()\n",
        "Decisionclassifier.fit(X_train, y_train)\n",
        "Decisionclassifier_predict = Decisionclassifier.predict(X_test)\n",
        "Decisionclassifier_score = accuracy_score(y_test, Decisionclassifier_predict)\n",
        "Decisionclassifier_score"
      ],
      "execution_count": 136,
      "outputs": [
        {
          "output_type": "execute_result",
          "data": {
            "text/plain": [
              "0.7434169474603769"
            ]
          },
          "metadata": {
            "tags": []
          },
          "execution_count": 136
        }
      ]
    },
    {
      "cell_type": "code",
      "metadata": {
        "id": "fjNV8fZThpcd",
        "colab_type": "code",
        "colab": {
          "base_uri": "https://localhost:8080/",
          "height": 34
        },
        "outputId": "8b4bc7e4-676b-4a7e-ab1d-2de6fb9d0c25"
      },
      "source": [
        "from sklearn.ensemble import RandomForestClassifier\n",
        "RFClassifier = RandomForestClassifier()\n",
        "RFClassifier.fit(X_train, y_train)\n",
        "RFClassifier_predict = RFClassifier.predict(X_test)\n",
        "RFClassifier_score = accuracy_score(y_test, RFClassifier_predict)\n",
        "RFClassifier_score\n",
        "print(RFClassifier.score(X_test, y_test))"
      ],
      "execution_count": 137,
      "outputs": [
        {
          "output_type": "stream",
          "text": [
            "0.8000748783227256\n"
          ],
          "name": "stdout"
        }
      ]
    },
    {
      "cell_type": "code",
      "metadata": {
        "id": "6GAoi_EBxjcQ",
        "colab_type": "code",
        "colab": {}
      },
      "source": [
        "# from sklearn.ensemble import VotingClassifier\n",
        "# from sklearn.svm import SVC\n",
        "# from sklearn.ensemble import RandomForestClassifier\n",
        "# from sklearn.tree import DecisionTreeClassifier\n",
        "# RFClassifier = RandomForestClassifier()\n",
        "# SVClassifiers = SVC()\n",
        "# Decisionclassifier = DecisionTreeClassifier()\n",
        "# voting_clf = VotingClassifier(\n",
        "#         estimators=[('svc', clf), ('rf', random_clf), ('dc', tree_clf)],\n",
        "#         voting='hard'\n",
        "# )"
      ],
      "execution_count": 138,
      "outputs": []
    },
    {
      "cell_type": "markdown",
      "metadata": {
        "id": "fFH-wpqjTDNn",
        "colab_type": "text"
      },
      "source": [
        "#* Xử lý dữ liệu mới.\n",
        "### crawl dữ liệu mới từ 2 nguồn là Huffpost và TheOnion bằng scapper extension của google chrome\n",
        "- Sau khi crawl dữ liệu thì được 2 file .txt\n",
        "- Tiếp theo load 2 file .txt vừa crawl được lên google colab bằng pandas\n",
        "- Gán labels cho dữ liệu từ Huffpost là 0 và TheOnion bằng 1\n",
        "- Chuyển 2 bảng dữ liệu thành dataframe bằng pandas\n",
        "- Gộp 2 bảng lại và lưu xuống file json\n"
      ]
    },
    {
      "cell_type": "code",
      "metadata": {
        "id": "afDdahXLU_KX",
        "colab_type": "code",
        "colab": {}
      },
      "source": [
        "# import pandas as pd\n",
        "\n",
        "# onion = pd.read_csv('newOnion.txt', sep='\\n')\n",
        "# onion['is_sarcastic'] = 1\n",
        "# huff = pd.read_csv('Huffpost.txt', sep='\\n')\n",
        "# huff['is_sarcastic'] = 0\n",
        "# onion = pd.DataFrame(data=onion)\n",
        "# huff = pd.DataFrame(data=huff)\n",
        "# onion = onion.append(huff, sort=1)\n",
        "# onion.sample(frac=1)\n",
        "# onion.to_json('headline_data.json', orient='records', lines=True)"
      ],
      "execution_count": 139,
      "outputs": []
    },
    {
      "cell_type": "markdown",
      "metadata": {
        "id": "1gsyE-DaVkVQ",
        "colab_type": "text"
      },
      "source": [
        "#* Chạy Model đã train với dữ liệu mới tạo được\n",
        "- Model Support vector machine classifications\n",
        "    - performance được 80.9% so với trên dữ liệu test là xấp xỉ 83%\n",
        "\n",
        "- Model Decision Tree classifications\n",
        "    - Performance được 68.5 % so với xấp xỉ 75% với dữ liệu test\n",
        "\n",
        "- Model Random Forest Classifications\n",
        "    - Performance được 73.3 % so với xấp xỉ 81% trên dữ liệu test\n",
        "\n"
      ]
    },
    {
      "cell_type": "code",
      "metadata": {
        "id": "udptmHamaAWC",
        "colab_type": "code",
        "colab": {
          "base_uri": "https://localhost:8080/",
          "height": 204
        },
        "outputId": "5d3be15e-5b0a-49b2-9447-249601519f0b"
      },
      "source": [
        "!wget https://raw.githubusercontent.com/shaking54/CS114.K21.KHTN/master/Sarcasm%20Detection/headline_data.json"
      ],
      "execution_count": 140,
      "outputs": [
        {
          "output_type": "stream",
          "text": [
            "--2020-06-25 07:57:22--  https://raw.githubusercontent.com/shaking54/CS114.K21.KHTN/master/Sarcasm%20Detection/headline_data.json\n",
            "Resolving raw.githubusercontent.com (raw.githubusercontent.com)... 151.101.0.133, 151.101.64.133, 151.101.128.133, ...\n",
            "Connecting to raw.githubusercontent.com (raw.githubusercontent.com)|151.101.0.133|:443... connected.\n",
            "HTTP request sent, awaiting response... 200 OK\n",
            "Length: 229984 (225K) [text/plain]\n",
            "Saving to: ‘headline_data.json.1’\n",
            "\n",
            "\rheadline_data.json.   0%[                    ]       0  --.-KB/s               \rheadline_data.json. 100%[===================>] 224.59K  --.-KB/s    in 0.05s   \n",
            "\n",
            "2020-06-25 07:57:22 (4.45 MB/s) - ‘headline_data.json.1’ saved [229984/229984]\n",
            "\n"
          ],
          "name": "stdout"
        }
      ]
    },
    {
      "cell_type": "code",
      "metadata": {
        "id": "XqZS-yahrMZb",
        "colab_type": "code",
        "colab": {
          "base_uri": "https://localhost:8080/",
          "height": 419
        },
        "outputId": "023301e1-7289-47db-a33c-7470a5ee472c"
      },
      "source": [
        "newdata = pd.read_json('/content/headline_data.json', lines=True)\n",
        "newdata.sample(frac=1)"
      ],
      "execution_count": 141,
      "outputs": [
        {
          "output_type": "execute_result",
          "data": {
            "text/html": [
              "<div>\n",
              "<style scoped>\n",
              "    .dataframe tbody tr th:only-of-type {\n",
              "        vertical-align: middle;\n",
              "    }\n",
              "\n",
              "    .dataframe tbody tr th {\n",
              "        vertical-align: top;\n",
              "    }\n",
              "\n",
              "    .dataframe thead th {\n",
              "        text-align: right;\n",
              "    }\n",
              "</style>\n",
              "<table border=\"1\" class=\"dataframe\">\n",
              "  <thead>\n",
              "    <tr style=\"text-align: right;\">\n",
              "      <th></th>\n",
              "      <th>headline</th>\n",
              "      <th>is_sarcastic</th>\n",
              "    </tr>\n",
              "  </thead>\n",
              "  <tbody>\n",
              "    <tr>\n",
              "      <th>1300</th>\n",
              "      <td>In An Election Year, 2 Vulnerable GOP Senators...</td>\n",
              "      <td>0</td>\n",
              "    </tr>\n",
              "    <tr>\n",
              "      <th>1117</th>\n",
              "      <td>ACLU Drags John Bolton's Record After He Retwe...</td>\n",
              "      <td>0</td>\n",
              "    </tr>\n",
              "    <tr>\n",
              "      <th>166</th>\n",
              "      <td>Look, Brother, Sister Don’t Like That They’re ...</td>\n",
              "      <td>1</td>\n",
              "    </tr>\n",
              "    <tr>\n",
              "      <th>1525</th>\n",
              "      <td>NYC Mayor Bill De Blasio Enforces Curfew Again...</td>\n",
              "      <td>0</td>\n",
              "    </tr>\n",
              "    <tr>\n",
              "      <th>1651</th>\n",
              "      <td>Fox News Legal Analyst Delivers Withering Crit...</td>\n",
              "      <td>0</td>\n",
              "    </tr>\n",
              "    <tr>\n",
              "      <th>...</th>\n",
              "      <td>...</td>\n",
              "      <td>...</td>\n",
              "    </tr>\n",
              "    <tr>\n",
              "      <th>629</th>\n",
              "      <td>‘I Could Spare Some Change,’ Says Man About To...</td>\n",
              "      <td>1</td>\n",
              "    </tr>\n",
              "    <tr>\n",
              "      <th>963</th>\n",
              "      <td>Teary Andrew Luck Describes Fighting Through S...</td>\n",
              "      <td>1</td>\n",
              "    </tr>\n",
              "    <tr>\n",
              "      <th>1340</th>\n",
              "      <td>Anna Wintour Apologizes For Race-Related 'Mist...</td>\n",
              "      <td>0</td>\n",
              "    </tr>\n",
              "    <tr>\n",
              "      <th>679</th>\n",
              "      <td>‘New Day, Same Bullshit,’ Whispers Dalai Lama ...</td>\n",
              "      <td>1</td>\n",
              "    </tr>\n",
              "    <tr>\n",
              "      <th>911</th>\n",
              "      <td>Jerry Falwell Jr. Tells Story Of Jesus Getting...</td>\n",
              "      <td>1</td>\n",
              "    </tr>\n",
              "  </tbody>\n",
              "</table>\n",
              "<p>2000 rows × 2 columns</p>\n",
              "</div>"
            ],
            "text/plain": [
              "                                               headline  is_sarcastic\n",
              "1300  In An Election Year, 2 Vulnerable GOP Senators...             0\n",
              "1117  ACLU Drags John Bolton's Record After He Retwe...             0\n",
              "166   Look, Brother, Sister Don’t Like That They’re ...             1\n",
              "1525  NYC Mayor Bill De Blasio Enforces Curfew Again...             0\n",
              "1651  Fox News Legal Analyst Delivers Withering Crit...             0\n",
              "...                                                 ...           ...\n",
              "629   ‘I Could Spare Some Change,’ Says Man About To...             1\n",
              "963   Teary Andrew Luck Describes Fighting Through S...             1\n",
              "1340  Anna Wintour Apologizes For Race-Related 'Mist...             0\n",
              "679   ‘New Day, Same Bullshit,’ Whispers Dalai Lama ...             1\n",
              "911   Jerry Falwell Jr. Tells Story Of Jesus Getting...             1\n",
              "\n",
              "[2000 rows x 2 columns]"
            ]
          },
          "metadata": {
            "tags": []
          },
          "execution_count": 141
        }
      ]
    },
    {
      "cell_type": "code",
      "metadata": {
        "id": "-Z0Svk92rnKS",
        "colab_type": "code",
        "colab": {}
      },
      "source": [
        "newdata['headline'] = newdata['headline'].apply(lambda x:pre_process(x))\n",
        "Xtest = newdata['headline']\n",
        "ytest = newdata['is_sarcastic']\n",
        "\n",
        "Xtest = vectorizer2.fit_transform(Xtest)"
      ],
      "execution_count": 142,
      "outputs": []
    },
    {
      "cell_type": "code",
      "metadata": {
        "id": "qdjXsfUgWMmG",
        "colab_type": "code",
        "colab": {
          "base_uri": "https://localhost:8080/",
          "height": 85
        },
        "outputId": "0d302b0d-f3df-4eb1-d426-7d2eca86d6f7"
      },
      "source": [
        "for cls in [SVClassifiers,LinearSVClassifier, Decisionclassifier,RFClassifier]:\n",
        "    yscore = cls.score(Xtest, ytest)\n",
        "    print(cls.__class__.__name__, yscore)"
      ],
      "execution_count": 143,
      "outputs": [
        {
          "output_type": "stream",
          "text": [
            "SVC 0.7955\n",
            "LinearSVC 0.7715\n",
            "DecisionTreeClassifier 0.6625\n",
            "RandomForestClassifier 0.737\n"
          ],
          "name": "stdout"
        }
      ]
    },
    {
      "cell_type": "markdown",
      "metadata": {
        "id": "wC-NB0IzeZg_",
        "colab_type": "text"
      },
      "source": [
        "#*Sử dụng model để dự đoán một  đoạn headline bất kì"
      ]
    },
    {
      "cell_type": "code",
      "metadata": {
        "id": "Dmz6v2xuUkyw",
        "colab_type": "code",
        "colab": {
          "base_uri": "https://localhost:8080/",
          "height": 102
        },
        "outputId": "90679e22-2606-4b24-fdbc-50377aaa8a4e"
      },
      "source": [
        "headline = input(\"Enter headline: \")\n",
        "for cls in [SVClassifiers, LinearSVClassifier,Decisionclassifier,RFClassifier]:\n",
        "    print(cls.__class__.__name__, cls.predict(vectorizer2.transform([pre_process(headline)])))"
      ],
      "execution_count": 144,
      "outputs": [
        {
          "output_type": "stream",
          "text": [
            "Enter headline: Thu Nga stupid\n",
            "SVC [1]\n",
            "LinearSVC [1]\n",
            "DecisionTreeClassifier [1]\n",
            "RandomForestClassifier [1]\n"
          ],
          "name": "stdout"
        }
      ]
    },
    {
      "cell_type": "code",
      "metadata": {
        "id": "VLdVOPGxIAXE",
        "colab_type": "code",
        "colab": {
          "base_uri": "https://localhost:8080/",
          "height": 391
        },
        "outputId": "f80ae373-5011-419b-853f-9ea9d81ddca3"
      },
      "source": [
        "!wget https://raw.githubusercontent.com/duongcscx/CS114.K21.KHTN/master/huffpost.json\n",
        "!wget https://raw.githubusercontent.com/duongcscx/CS114.K21.KHTN/master/theonion.json"
      ],
      "execution_count": 145,
      "outputs": [
        {
          "output_type": "stream",
          "text": [
            "--2020-06-25 07:58:17--  https://raw.githubusercontent.com/duongcscx/CS114.K21.KHTN/master/huffpost.json\n",
            "Resolving raw.githubusercontent.com (raw.githubusercontent.com)... 151.101.0.133, 151.101.64.133, 151.101.128.133, ...\n",
            "Connecting to raw.githubusercontent.com (raw.githubusercontent.com)|151.101.0.133|:443... connected.\n",
            "HTTP request sent, awaiting response... 200 OK\n",
            "Length: 160023 (156K) [text/plain]\n",
            "Saving to: ‘huffpost.json.1’\n",
            "\n",
            "\rhuffpost.json.1       0%[                    ]       0  --.-KB/s               \rhuffpost.json.1     100%[===================>] 156.27K  --.-KB/s    in 0.04s   \n",
            "\n",
            "2020-06-25 07:58:17 (3.81 MB/s) - ‘huffpost.json.1’ saved [160023/160023]\n",
            "\n",
            "--2020-06-25 07:58:19--  https://raw.githubusercontent.com/duongcscx/CS114.K21.KHTN/master/theonion.json\n",
            "Resolving raw.githubusercontent.com (raw.githubusercontent.com)... 151.101.0.133, 151.101.64.133, 151.101.128.133, ...\n",
            "Connecting to raw.githubusercontent.com (raw.githubusercontent.com)|151.101.0.133|:443... connected.\n",
            "HTTP request sent, awaiting response... 200 OK\n",
            "Length: 309885 (303K) [text/plain]\n",
            "Saving to: ‘theonion.json.1’\n",
            "\n",
            "theonion.json.1     100%[===================>] 302.62K  --.-KB/s    in 0.05s   \n",
            "\n",
            "2020-06-25 07:58:19 (5.61 MB/s) - ‘theonion.json.1’ saved [309885/309885]\n",
            "\n"
          ],
          "name": "stdout"
        }
      ]
    },
    {
      "cell_type": "code",
      "metadata": {
        "id": "LRVb5c_TOPXT",
        "colab_type": "code",
        "colab": {}
      },
      "source": [
        "theonion = pd.read_json('/content/theonion.json', lines=True)\n",
        "Duongdata = pd.read_json('/content/huffpost.json', lines=True)\n",
        "Duongdata = pd.DataFrame(data=Duongdata)\n",
        "Duongdata = Duongdata.append(theonion)\n",
        "Duongdata=Duongdata.drop(columns='article_link')\n"
      ],
      "execution_count": 146,
      "outputs": []
    },
    {
      "cell_type": "code",
      "metadata": {
        "id": "9Tz7rJFCPSqm",
        "colab_type": "code",
        "colab": {
          "base_uri": "https://localhost:8080/",
          "height": 34
        },
        "outputId": "430d6ecc-7743-43fa-92a3-6db1c3c15567"
      },
      "source": [
        "Duongdata.head()\n",
        "len(Duongdata)"
      ],
      "execution_count": 147,
      "outputs": [
        {
          "output_type": "execute_result",
          "data": {
            "text/plain": [
              "2000"
            ]
          },
          "metadata": {
            "tags": []
          },
          "execution_count": 147
        }
      ]
    },
    {
      "cell_type": "code",
      "metadata": {
        "id": "_tZybeTYOUbE",
        "colab_type": "code",
        "colab": {
          "base_uri": "https://localhost:8080/",
          "height": 697
        },
        "outputId": "a111f7ee-870b-4f6f-e564-16b69785a3f1"
      },
      "source": [
        "from sklearn.metrics import classification_report\n",
        "Duongdata['headline'] = Duongdata['headline'].apply(lambda x:pre_process(x))\n",
        "DuongX = Duongdata['headline']\n",
        "Duongy = Duongdata['is_sarcastic']\n",
        "\n",
        "DuongX = vectorizer2.fit_transform(DuongX)\n",
        "for cls in [SVClassifiers,LinearSVClassifier, Decisionclassifier,RFClassifier]:\n",
        "    Duongpred = cls.predict(DuongX)\n",
        "    yscore = cls.score(DuongX, Duongy)\n",
        "    print(classification_report(Duongy, Duongpred))\n",
        "    print(cls.__class__.__name__, yscore)"
      ],
      "execution_count": 148,
      "outputs": [
        {
          "output_type": "stream",
          "text": [
            "              precision    recall  f1-score   support\n",
            "\n",
            "           0       0.66      0.85      0.74       703\n",
            "           1       0.90      0.76      0.83      1297\n",
            "\n",
            "    accuracy                           0.79      2000\n",
            "   macro avg       0.78      0.80      0.78      2000\n",
            "weighted avg       0.82      0.79      0.80      2000\n",
            "\n",
            "SVC 0.7915\n",
            "              precision    recall  f1-score   support\n",
            "\n",
            "           0       0.62      0.81      0.70       703\n",
            "           1       0.87      0.73      0.80      1297\n",
            "\n",
            "    accuracy                           0.76      2000\n",
            "   macro avg       0.75      0.77      0.75      2000\n",
            "weighted avg       0.79      0.76      0.76      2000\n",
            "\n",
            "LinearSVC 0.7585\n",
            "              precision    recall  f1-score   support\n",
            "\n",
            "           0       0.50      0.76      0.60       703\n",
            "           1       0.82      0.59      0.69      1297\n",
            "\n",
            "    accuracy                           0.65      2000\n",
            "   macro avg       0.66      0.68      0.65      2000\n",
            "weighted avg       0.71      0.65      0.66      2000\n",
            "\n",
            "DecisionTreeClassifier 0.6515\n",
            "              precision    recall  f1-score   support\n",
            "\n",
            "           0       0.57      0.82      0.67       703\n",
            "           1       0.87      0.66      0.75      1297\n",
            "\n",
            "    accuracy                           0.72      2000\n",
            "   macro avg       0.72      0.74      0.71      2000\n",
            "weighted avg       0.76      0.72      0.72      2000\n",
            "\n",
            "RandomForestClassifier 0.7175\n"
          ],
          "name": "stdout"
        }
      ]
    },
    {
      "cell_type": "code",
      "metadata": {
        "id": "Bds6rb03PihI",
        "colab_type": "code",
        "colab": {}
      },
      "source": [
        ""
      ],
      "execution_count": 148,
      "outputs": []
    }
  ]
}