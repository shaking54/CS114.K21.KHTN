{
  "nbformat": 4,
  "nbformat_minor": 0,
  "metadata": {
    "colab": {
      "name": "Copy of API_IBM_watson_visual_recognition.ipynb",
      "provenance": [],
      "collapsed_sections": [],
      "authorship_tag": "ABX9TyNaHmfVKb3wGofQRl3f1qAo",
      "include_colab_link": true
    },
    "kernelspec": {
      "name": "python3",
      "display_name": "Python 3"
    }
  },
  "cells": [
    {
      "cell_type": "markdown",
      "metadata": {
        "id": "view-in-github",
        "colab_type": "text"
      },
      "source": [
        "<a href=\"https://colab.research.google.com/github/shaking54/CS114.K21.KHTN/blob/master/Copy_of_API_IBM_watson_visual_recognition.ipynb\" target=\"_parent\"><img src=\"https://colab.research.google.com/assets/colab-badge.svg\" alt=\"Open In Colab\"/></a>"
      ]
    },
    {
      "cell_type": "code",
      "metadata": {
        "id": "a1_kUj-2ylt_",
        "colab_type": "code",
        "outputId": "1a974472-3be3-4526-b75a-fd4e4b8cccd5",
        "colab": {
          "base_uri": "https://localhost:8080/",
          "height": 782
        }
      },
      "source": [
        "!pip install --upgrade \"watson-developer-cloud>=2.4.1\"\n",
        "!pip install --upgrade \"ibm-watson>=4.3.0\""
      ],
      "execution_count": 2,
      "outputs": [
        {
          "output_type": "stream",
          "text": [
            "Collecting watson-developer-cloud>=2.4.1\n",
            "\u001b[?25l  Downloading https://files.pythonhosted.org/packages/fc/a5/a89fc49bd82eb6ea569e45b43383c28cd51b5076f43010dcc3331c137ff5/watson-developer-cloud-2.10.1.tar.gz (248kB)\n",
            "\u001b[K     |████████████████████████████████| 256kB 2.8MB/s \n",
            "\u001b[?25hRequirement already satisfied, skipping upgrade: requests<3.0,>=2.0 in /usr/local/lib/python3.6/dist-packages (from watson-developer-cloud>=2.4.1) (2.21.0)\n",
            "Requirement already satisfied, skipping upgrade: python_dateutil>=2.5.3 in /usr/local/lib/python3.6/dist-packages (from watson-developer-cloud>=2.4.1) (2.8.1)\n",
            "Collecting websocket-client==0.48.0\n",
            "\u001b[?25l  Downloading https://files.pythonhosted.org/packages/8a/a1/72ef9aa26cfe1a75cee09fc1957e4723add9de098c15719416a1ee89386b/websocket_client-0.48.0-py2.py3-none-any.whl (198kB)\n",
            "\u001b[K     |████████████████████████████████| 204kB 8.7MB/s \n",
            "\u001b[?25hRequirement already satisfied, skipping upgrade: idna<2.9,>=2.5 in /usr/local/lib/python3.6/dist-packages (from requests<3.0,>=2.0->watson-developer-cloud>=2.4.1) (2.8)\n",
            "Requirement already satisfied, skipping upgrade: urllib3<1.25,>=1.21.1 in /usr/local/lib/python3.6/dist-packages (from requests<3.0,>=2.0->watson-developer-cloud>=2.4.1) (1.24.3)\n",
            "Requirement already satisfied, skipping upgrade: chardet<3.1.0,>=3.0.2 in /usr/local/lib/python3.6/dist-packages (from requests<3.0,>=2.0->watson-developer-cloud>=2.4.1) (3.0.4)\n",
            "Requirement already satisfied, skipping upgrade: certifi>=2017.4.17 in /usr/local/lib/python3.6/dist-packages (from requests<3.0,>=2.0->watson-developer-cloud>=2.4.1) (2019.11.28)\n",
            "Requirement already satisfied, skipping upgrade: six>=1.5 in /usr/local/lib/python3.6/dist-packages (from python_dateutil>=2.5.3->watson-developer-cloud>=2.4.1) (1.12.0)\n",
            "Building wheels for collected packages: watson-developer-cloud\n",
            "  Building wheel for watson-developer-cloud (setup.py) ... \u001b[?25l\u001b[?25hdone\n",
            "  Created wheel for watson-developer-cloud: filename=watson_developer_cloud-2.10.1-cp36-none-any.whl size=252813 sha256=87470bd25771e15733b1f5763a58246f9bc10b9db4d53080ae8df7d3284ad8a5\n",
            "  Stored in directory: /root/.cache/pip/wheels/ea/a7/19/fac0a408a586265eb374005308a7553d4494ab41b2fd88f5bc\n",
            "Successfully built watson-developer-cloud\n",
            "Installing collected packages: websocket-client, watson-developer-cloud\n",
            "Successfully installed watson-developer-cloud-2.10.1 websocket-client-0.48.0\n",
            "Collecting ibm-watson>=4.3.0\n",
            "\u001b[?25l  Downloading https://files.pythonhosted.org/packages/68/b8/b0cbd12e1813a8cc936619e88e1c54a3475dcb38aff7595b339ddf75fd39/ibm-watson-4.3.0.tar.gz (360kB)\n",
            "\u001b[K     |████████████████████████████████| 368kB 2.8MB/s \n",
            "\u001b[?25hRequirement already satisfied, skipping upgrade: requests<3.0,>=2.0 in /usr/local/lib/python3.6/dist-packages (from ibm-watson>=4.3.0) (2.21.0)\n",
            "Requirement already satisfied, skipping upgrade: python_dateutil>=2.5.3 in /usr/local/lib/python3.6/dist-packages (from ibm-watson>=4.3.0) (2.8.1)\n",
            "Requirement already satisfied, skipping upgrade: websocket-client==0.48.0 in /usr/local/lib/python3.6/dist-packages (from ibm-watson>=4.3.0) (0.48.0)\n",
            "Collecting ibm_cloud_sdk_core==1.5.1\n",
            "  Downloading https://files.pythonhosted.org/packages/b7/f6/10d5271c807d73d236e6ae07b68035fed78b28b5ab836704d34097af3986/ibm-cloud-sdk-core-1.5.1.tar.gz\n",
            "Requirement already satisfied, skipping upgrade: idna<2.9,>=2.5 in /usr/local/lib/python3.6/dist-packages (from requests<3.0,>=2.0->ibm-watson>=4.3.0) (2.8)\n",
            "Requirement already satisfied, skipping upgrade: chardet<3.1.0,>=3.0.2 in /usr/local/lib/python3.6/dist-packages (from requests<3.0,>=2.0->ibm-watson>=4.3.0) (3.0.4)\n",
            "Requirement already satisfied, skipping upgrade: certifi>=2017.4.17 in /usr/local/lib/python3.6/dist-packages (from requests<3.0,>=2.0->ibm-watson>=4.3.0) (2019.11.28)\n",
            "Requirement already satisfied, skipping upgrade: urllib3<1.25,>=1.21.1 in /usr/local/lib/python3.6/dist-packages (from requests<3.0,>=2.0->ibm-watson>=4.3.0) (1.24.3)\n",
            "Requirement already satisfied, skipping upgrade: six>=1.5 in /usr/local/lib/python3.6/dist-packages (from python_dateutil>=2.5.3->ibm-watson>=4.3.0) (1.12.0)\n",
            "Collecting PyJWT>=1.7.1\n",
            "  Downloading https://files.pythonhosted.org/packages/87/8b/6a9f14b5f781697e51259d81657e6048fd31a113229cf346880bb7545565/PyJWT-1.7.1-py2.py3-none-any.whl\n",
            "Building wheels for collected packages: ibm-watson, ibm-cloud-sdk-core\n",
            "  Building wheel for ibm-watson (setup.py) ... \u001b[?25l\u001b[?25hdone\n",
            "  Created wheel for ibm-watson: filename=ibm_watson-4.3.0-cp36-none-any.whl size=354170 sha256=eb5f64de5a38006f022b9073073752d2d0ef014594f1b23b9545a1102ae470d9\n",
            "  Stored in directory: /root/.cache/pip/wheels/b7/10/b4/509307276e9d558a6b06d8e69f8faf6cfbdf2d1b83abb6b8d4\n",
            "  Building wheel for ibm-cloud-sdk-core (setup.py) ... \u001b[?25l\u001b[?25hdone\n",
            "  Created wheel for ibm-cloud-sdk-core: filename=ibm_cloud_sdk_core-1.5.1-cp36-none-any.whl size=44491 sha256=068aabeeff1c15573ec22a2f287e53cecacf88204b35d6d7138328aa284442a5\n",
            "  Stored in directory: /root/.cache/pip/wheels/6a/42/50/f96888116b329578304f9dda4693cef6f3e76e18272d22cb6c\n",
            "Successfully built ibm-watson ibm-cloud-sdk-core\n",
            "Installing collected packages: PyJWT, ibm-cloud-sdk-core, ibm-watson\n",
            "Successfully installed PyJWT-1.7.1 ibm-cloud-sdk-core-1.5.1 ibm-watson-4.3.0\n"
          ],
          "name": "stdout"
        }
      ]
    },
    {
      "cell_type": "code",
      "metadata": {
        "id": "OxKrnfNXj6eF",
        "colab_type": "code",
        "outputId": "a433b328-0005-485d-a8f2-14ad06d54a61",
        "colab": {
          "base_uri": "https://localhost:8080/",
          "height": 476
        }
      },
      "source": [
        "import json\n",
        "import os\n",
        "from ibm_watson import VisualRecognitionV4\n",
        "from ibm_watson.visual_recognition_v4 import FileWithMetadata, TrainingDataObject, Location, AnalyzeEnums\n",
        "from ibm_cloud_sdk_core.authenticators import IAMAuthenticator\n",
        "from watson_developer_cloud import VisualRecognitionV3\n",
        "\n",
        "visual_recognition = VisualRecognitionV3(\n",
        "    '2018-03-19',\n",
        "    iam_apikey='XiwANQts_kQ6ZeGtK2IXkdI6IJ2ubtER8NZPkRewIvJM')\n",
        "print(\"Enter url image: \")\n",
        "classes = visual_recognition.classify(\n",
        "        url=input(),\n",
        "        threshold='0.6',\n",
        "\tclassifier_ids='default').get_result()\n",
        "print(json.dumps(classes['images'][0]['classifiers'][0]['classes'], indent=2))\n"
      ],
      "execution_count": 16,
      "outputs": [
        {
          "output_type": "stream",
          "text": [
            "/usr/local/lib/python3.6/dist-packages/ipykernel_launcher.py:10: DeprecationWarning: watson-developer-cloud moved to ibm-watson. To get updates, use the new package.\n",
            "  # Remove the CWD from sys.path while we load stuff.\n"
          ],
          "name": "stderr"
        },
        {
          "output_type": "stream",
          "text": [
            "Enter url image: \n",
            "http://t3.gstatic.com/images?q=tbn:ANd9GcQkJxAApBnrT8SiLMv0DVHhXNNlJolIMO6759IW5NfhoL9r0953LkSdMpMSHPycwvuoPT-64YVWQGLi2UHw7WM\n",
            "[\n",
            "  {\n",
            "    \"class\": \"Snow Scene\",\n",
            "    \"score\": 0.827,\n",
            "    \"type_hierarchy\": \"/nature/Snow Scene\"\n",
            "  },\n",
            "  {\n",
            "    \"class\": \"nature\",\n",
            "    \"score\": 0.882\n",
            "  },\n",
            "  {\n",
            "    \"class\": \"natural elevation\",\n",
            "    \"score\": 0.797\n",
            "  },\n",
            "  {\n",
            "    \"class\": \"tree\",\n",
            "    \"score\": 0.796\n",
            "  },\n",
            "  {\n",
            "    \"class\": \"azure color\",\n",
            "    \"score\": 0.946\n",
            "  }\n",
            "]\n"
          ],
          "name": "stdout"
        }
      ]
    },
    {
      "cell_type": "code",
      "metadata": {
        "id": "Yqk4Rq96kETh",
        "colab_type": "code",
        "colab": {}
      },
      "source": [
        ""
      ],
      "execution_count": 0,
      "outputs": []
    }
  ]
}