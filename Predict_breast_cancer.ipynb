{
  "nbformat": 4,
  "nbformat_minor": 0,
  "metadata": {
    "colab": {
      "name": "Predict breast cancer",
      "provenance": [],
      "authorship_tag": "ABX9TyP00H4xxLNUuxtK3Nzk3waz",
      "include_colab_link": true
    },
    "kernelspec": {
      "name": "python3",
      "display_name": "Python 3"
    }
  },
  "cells": [
    {
      "cell_type": "markdown",
      "metadata": {
        "id": "view-in-github",
        "colab_type": "text"
      },
      "source": [
        "<a href=\"https://colab.research.google.com/github/shaking54/CS114.K21.KHTN/blob/master/Predict_breast_cancer.ipynb\" target=\"_parent\"><img src=\"https://colab.research.google.com/assets/colab-badge.svg\" alt=\"Open In Colab\"/></a>"
      ]
    },
    {
      "cell_type": "code",
      "metadata": {
        "id": "ULQSdBAdYubE",
        "colab_type": "code",
        "colab": {}
      },
      "source": [
        "import sklearn\n",
        "import pandas as pd\n",
        "from sklearn.datasets import load_breast_cancer\n"
      ],
      "execution_count": 0,
      "outputs": []
    },
    {
      "cell_type": "code",
      "metadata": {
        "id": "U8mC2i8RY2BE",
        "colab_type": "code",
        "colab": {}
      },
      "source": [
        "data = pd.read_csv(\"/usr/local/lib/python3.6/dist-packages/sklearn/datasets/data/breast_cancer.csv\")"
      ],
      "execution_count": 0,
      "outputs": []
    },
    {
      "cell_type": "code",
      "metadata": {
        "id": "mmokAemsY6_M",
        "colab_type": "code",
        "colab": {
          "base_uri": "https://localhost:8080/",
          "height": 232
        },
        "outputId": "1f5e355e-dc95-46f1-8386-1df4847dd8ca"
      },
      "source": [
        "data.info()"
      ],
      "execution_count": 13,
      "outputs": [
        {
          "output_type": "stream",
          "text": [
            "<class 'pandas.core.frame.DataFrame'>\n",
            "MultiIndex: 569 entries, (17.99, 10.38, 122.8, 1001.0, 0.1184, 0.2776, 0.3001, 0.1471, 0.2419, 0.07871, 1.095, 0.9053, 8.589, 153.4, 0.006399, 0.04904, 0.05372999999999999, 0.01587, 0.03003, 0.006193, 25.38, 17.33, 184.6, 2019.0, 0.1622, 0.6656, 0.7119) to (7.76, 24.54, 47.92, 181.0, 0.052629999999999996, 0.04362, 0.0, 0.0, 0.1587, 0.058839999999999996, 0.3857, 1.4280000000000002, 2.548, 19.15, 0.007189, 0.00466, 0.0, 0.0, 0.026760000000000003, 0.002783, 9.456, 30.37, 59.16, 268.6, 0.08996, 0.06444, 0.0)\n",
            "Data columns (total 4 columns):\n",
            " #   Column     Non-Null Count  Dtype  \n",
            "---  ------     --------------  -----  \n",
            " 0   569        569 non-null    float64\n",
            " 1   30         569 non-null    float64\n",
            " 2   malignant  569 non-null    float64\n",
            " 3   benign     569 non-null    int64  \n",
            "dtypes: float64(3), int64(1)\n",
            "memory usage: 176.1 KB\n"
          ],
          "name": "stdout"
        }
      ]
    },
    {
      "cell_type": "code",
      "metadata": {
        "id": "C5rh5VrgawiF",
        "colab_type": "code",
        "colab": {
          "base_uri": "https://localhost:8080/",
          "height": 214
        },
        "outputId": "36e38fd4-3df0-44b1-8a2d-e63b0e14e067"
      },
      "source": [
        "data.head()"
      ],
      "execution_count": 19,
      "outputs": [
        {
          "output_type": "execute_result",
          "data": {
            "text/html": [
              "<div>\n",
              "<style scoped>\n",
              "    .dataframe tbody tr th:only-of-type {\n",
              "        vertical-align: middle;\n",
              "    }\n",
              "\n",
              "    .dataframe tbody tr th {\n",
              "        vertical-align: top;\n",
              "    }\n",
              "\n",
              "    .dataframe thead th {\n",
              "        text-align: right;\n",
              "    }\n",
              "</style>\n",
              "<table border=\"1\" class=\"dataframe\">\n",
              "  <thead>\n",
              "    <tr style=\"text-align: right;\">\n",
              "      <th></th>\n",
              "      <th></th>\n",
              "      <th></th>\n",
              "      <th></th>\n",
              "      <th></th>\n",
              "      <th></th>\n",
              "      <th></th>\n",
              "      <th></th>\n",
              "      <th></th>\n",
              "      <th></th>\n",
              "      <th></th>\n",
              "      <th></th>\n",
              "      <th></th>\n",
              "      <th></th>\n",
              "      <th></th>\n",
              "      <th></th>\n",
              "      <th></th>\n",
              "      <th></th>\n",
              "      <th></th>\n",
              "      <th></th>\n",
              "      <th></th>\n",
              "      <th></th>\n",
              "      <th></th>\n",
              "      <th></th>\n",
              "      <th></th>\n",
              "      <th></th>\n",
              "      <th></th>\n",
              "      <th>569</th>\n",
              "      <th>30</th>\n",
              "      <th>malignant</th>\n",
              "      <th>benign</th>\n",
              "    </tr>\n",
              "  </thead>\n",
              "  <tbody>\n",
              "    <tr>\n",
              "      <th>17.99</th>\n",
              "      <th>10.38</th>\n",
              "      <th>122.80</th>\n",
              "      <th>1001.0</th>\n",
              "      <th>0.11840</th>\n",
              "      <th>0.27760</th>\n",
              "      <th>0.3001</th>\n",
              "      <th>0.14710</th>\n",
              "      <th>0.2419</th>\n",
              "      <th>0.07871</th>\n",
              "      <th>1.0950</th>\n",
              "      <th>0.9053</th>\n",
              "      <th>8.589</th>\n",
              "      <th>153.40</th>\n",
              "      <th>0.006399</th>\n",
              "      <th>0.04904</th>\n",
              "      <th>0.05373</th>\n",
              "      <th>0.01587</th>\n",
              "      <th>0.03003</th>\n",
              "      <th>0.006193</th>\n",
              "      <th>25.38</th>\n",
              "      <th>17.33</th>\n",
              "      <th>184.60</th>\n",
              "      <th>2019.0</th>\n",
              "      <th>0.1622</th>\n",
              "      <th>0.6656</th>\n",
              "      <th>0.7119</th>\n",
              "      <td>0.2654</td>\n",
              "      <td>0.4601</td>\n",
              "      <td>0.11890</td>\n",
              "      <td>0</td>\n",
              "    </tr>\n",
              "    <tr>\n",
              "      <th>20.57</th>\n",
              "      <th>17.77</th>\n",
              "      <th>132.90</th>\n",
              "      <th>1326.0</th>\n",
              "      <th>0.08474</th>\n",
              "      <th>0.07864</th>\n",
              "      <th>0.0869</th>\n",
              "      <th>0.07017</th>\n",
              "      <th>0.1812</th>\n",
              "      <th>0.05667</th>\n",
              "      <th>0.5435</th>\n",
              "      <th>0.7339</th>\n",
              "      <th>3.398</th>\n",
              "      <th>74.08</th>\n",
              "      <th>0.005225</th>\n",
              "      <th>0.01308</th>\n",
              "      <th>0.01860</th>\n",
              "      <th>0.01340</th>\n",
              "      <th>0.01389</th>\n",
              "      <th>0.003532</th>\n",
              "      <th>24.99</th>\n",
              "      <th>23.41</th>\n",
              "      <th>158.80</th>\n",
              "      <th>1956.0</th>\n",
              "      <th>0.1238</th>\n",
              "      <th>0.1866</th>\n",
              "      <th>0.2416</th>\n",
              "      <td>0.1860</td>\n",
              "      <td>0.2750</td>\n",
              "      <td>0.08902</td>\n",
              "      <td>0</td>\n",
              "    </tr>\n",
              "    <tr>\n",
              "      <th>19.69</th>\n",
              "      <th>21.25</th>\n",
              "      <th>130.00</th>\n",
              "      <th>1203.0</th>\n",
              "      <th>0.10960</th>\n",
              "      <th>0.15990</th>\n",
              "      <th>0.1974</th>\n",
              "      <th>0.12790</th>\n",
              "      <th>0.2069</th>\n",
              "      <th>0.05999</th>\n",
              "      <th>0.7456</th>\n",
              "      <th>0.7869</th>\n",
              "      <th>4.585</th>\n",
              "      <th>94.03</th>\n",
              "      <th>0.006150</th>\n",
              "      <th>0.04006</th>\n",
              "      <th>0.03832</th>\n",
              "      <th>0.02058</th>\n",
              "      <th>0.02250</th>\n",
              "      <th>0.004571</th>\n",
              "      <th>23.57</th>\n",
              "      <th>25.53</th>\n",
              "      <th>152.50</th>\n",
              "      <th>1709.0</th>\n",
              "      <th>0.1444</th>\n",
              "      <th>0.4245</th>\n",
              "      <th>0.4504</th>\n",
              "      <td>0.2430</td>\n",
              "      <td>0.3613</td>\n",
              "      <td>0.08758</td>\n",
              "      <td>0</td>\n",
              "    </tr>\n",
              "    <tr>\n",
              "      <th>11.42</th>\n",
              "      <th>20.38</th>\n",
              "      <th>77.58</th>\n",
              "      <th>386.1</th>\n",
              "      <th>0.14250</th>\n",
              "      <th>0.28390</th>\n",
              "      <th>0.2414</th>\n",
              "      <th>0.10520</th>\n",
              "      <th>0.2597</th>\n",
              "      <th>0.09744</th>\n",
              "      <th>0.4956</th>\n",
              "      <th>1.1560</th>\n",
              "      <th>3.445</th>\n",
              "      <th>27.23</th>\n",
              "      <th>0.009110</th>\n",
              "      <th>0.07458</th>\n",
              "      <th>0.05661</th>\n",
              "      <th>0.01867</th>\n",
              "      <th>0.05963</th>\n",
              "      <th>0.009208</th>\n",
              "      <th>14.91</th>\n",
              "      <th>26.50</th>\n",
              "      <th>98.87</th>\n",
              "      <th>567.7</th>\n",
              "      <th>0.2098</th>\n",
              "      <th>0.8663</th>\n",
              "      <th>0.6869</th>\n",
              "      <td>0.2575</td>\n",
              "      <td>0.6638</td>\n",
              "      <td>0.17300</td>\n",
              "      <td>0</td>\n",
              "    </tr>\n",
              "    <tr>\n",
              "      <th>20.29</th>\n",
              "      <th>14.34</th>\n",
              "      <th>135.10</th>\n",
              "      <th>1297.0</th>\n",
              "      <th>0.10030</th>\n",
              "      <th>0.13280</th>\n",
              "      <th>0.1980</th>\n",
              "      <th>0.10430</th>\n",
              "      <th>0.1809</th>\n",
              "      <th>0.05883</th>\n",
              "      <th>0.7572</th>\n",
              "      <th>0.7813</th>\n",
              "      <th>5.438</th>\n",
              "      <th>94.44</th>\n",
              "      <th>0.011490</th>\n",
              "      <th>0.02461</th>\n",
              "      <th>0.05688</th>\n",
              "      <th>0.01885</th>\n",
              "      <th>0.01756</th>\n",
              "      <th>0.005115</th>\n",
              "      <th>22.54</th>\n",
              "      <th>16.67</th>\n",
              "      <th>152.20</th>\n",
              "      <th>1575.0</th>\n",
              "      <th>0.1374</th>\n",
              "      <th>0.2050</th>\n",
              "      <th>0.4000</th>\n",
              "      <td>0.1625</td>\n",
              "      <td>0.2364</td>\n",
              "      <td>0.07678</td>\n",
              "      <td>0</td>\n",
              "    </tr>\n",
              "  </tbody>\n",
              "</table>\n",
              "</div>"
            ],
            "text/plain": [
              "                                                                                                                                                                                                        569  ...  benign\n",
              "17.99 10.38 122.80 1001.0 0.11840 0.27760 0.3001 0.14710 0.2419 0.07871 1.0950 0.9053 8.589 153.40 0.006399 0.04904 0.05373 0.01587 0.03003 0.006193 25.38 17.33 184.60 2019.0 0.1622 0.6656 0.7119  0.2654  ...       0\n",
              "20.57 17.77 132.90 1326.0 0.08474 0.07864 0.0869 0.07017 0.1812 0.05667 0.5435 0.7339 3.398 74.08  0.005225 0.01308 0.01860 0.01340 0.01389 0.003532 24.99 23.41 158.80 1956.0 0.1238 0.1866 0.2416  0.1860  ...       0\n",
              "19.69 21.25 130.00 1203.0 0.10960 0.15990 0.1974 0.12790 0.2069 0.05999 0.7456 0.7869 4.585 94.03  0.006150 0.04006 0.03832 0.02058 0.02250 0.004571 23.57 25.53 152.50 1709.0 0.1444 0.4245 0.4504  0.2430  ...       0\n",
              "11.42 20.38 77.58  386.1  0.14250 0.28390 0.2414 0.10520 0.2597 0.09744 0.4956 1.1560 3.445 27.23  0.009110 0.07458 0.05661 0.01867 0.05963 0.009208 14.91 26.50 98.87  567.7  0.2098 0.8663 0.6869  0.2575  ...       0\n",
              "20.29 14.34 135.10 1297.0 0.10030 0.13280 0.1980 0.10430 0.1809 0.05883 0.7572 0.7813 5.438 94.44  0.011490 0.02461 0.05688 0.01885 0.01756 0.005115 22.54 16.67 152.20 1575.0 0.1374 0.2050 0.4000  0.1625  ...       0\n",
              "\n",
              "[5 rows x 4 columns]"
            ]
          },
          "metadata": {
            "tags": []
          },
          "execution_count": 19
        }
      ]
    },
    {
      "cell_type": "code",
      "metadata": {
        "id": "JlpTU8pWa202",
        "colab_type": "code",
        "colab": {}
      },
      "source": [
        "X = data.drop(['benign'], axis=1)\n",
        "y = data['benign']"
      ],
      "execution_count": 0,
      "outputs": []
    },
    {
      "cell_type": "code",
      "metadata": {
        "id": "gHHkG_uWb4CH",
        "colab_type": "code",
        "colab": {
          "base_uri": "https://localhost:8080/",
          "height": 214
        },
        "outputId": "60233212-82e6-4847-d6d2-d2603c301d7d"
      },
      "source": [
        "X.head()"
      ],
      "execution_count": 26,
      "outputs": [
        {
          "output_type": "execute_result",
          "data": {
            "text/html": [
              "<div>\n",
              "<style scoped>\n",
              "    .dataframe tbody tr th:only-of-type {\n",
              "        vertical-align: middle;\n",
              "    }\n",
              "\n",
              "    .dataframe tbody tr th {\n",
              "        vertical-align: top;\n",
              "    }\n",
              "\n",
              "    .dataframe thead th {\n",
              "        text-align: right;\n",
              "    }\n",
              "</style>\n",
              "<table border=\"1\" class=\"dataframe\">\n",
              "  <thead>\n",
              "    <tr style=\"text-align: right;\">\n",
              "      <th></th>\n",
              "      <th></th>\n",
              "      <th></th>\n",
              "      <th></th>\n",
              "      <th></th>\n",
              "      <th></th>\n",
              "      <th></th>\n",
              "      <th></th>\n",
              "      <th></th>\n",
              "      <th></th>\n",
              "      <th></th>\n",
              "      <th></th>\n",
              "      <th></th>\n",
              "      <th></th>\n",
              "      <th></th>\n",
              "      <th></th>\n",
              "      <th></th>\n",
              "      <th></th>\n",
              "      <th></th>\n",
              "      <th></th>\n",
              "      <th></th>\n",
              "      <th></th>\n",
              "      <th></th>\n",
              "      <th></th>\n",
              "      <th></th>\n",
              "      <th></th>\n",
              "      <th></th>\n",
              "      <th>569</th>\n",
              "      <th>30</th>\n",
              "    </tr>\n",
              "  </thead>\n",
              "  <tbody>\n",
              "    <tr>\n",
              "      <th>17.99</th>\n",
              "      <th>10.38</th>\n",
              "      <th>122.80</th>\n",
              "      <th>1001.0</th>\n",
              "      <th>0.11840</th>\n",
              "      <th>0.27760</th>\n",
              "      <th>0.3001</th>\n",
              "      <th>0.14710</th>\n",
              "      <th>0.2419</th>\n",
              "      <th>0.07871</th>\n",
              "      <th>1.0950</th>\n",
              "      <th>0.9053</th>\n",
              "      <th>8.589</th>\n",
              "      <th>153.40</th>\n",
              "      <th>0.006399</th>\n",
              "      <th>0.04904</th>\n",
              "      <th>0.05373</th>\n",
              "      <th>0.01587</th>\n",
              "      <th>0.03003</th>\n",
              "      <th>0.006193</th>\n",
              "      <th>25.38</th>\n",
              "      <th>17.33</th>\n",
              "      <th>184.60</th>\n",
              "      <th>2019.0</th>\n",
              "      <th>0.1622</th>\n",
              "      <th>0.6656</th>\n",
              "      <th>0.7119</th>\n",
              "      <td>0.2654</td>\n",
              "      <td>0.4601</td>\n",
              "    </tr>\n",
              "    <tr>\n",
              "      <th>20.57</th>\n",
              "      <th>17.77</th>\n",
              "      <th>132.90</th>\n",
              "      <th>1326.0</th>\n",
              "      <th>0.08474</th>\n",
              "      <th>0.07864</th>\n",
              "      <th>0.0869</th>\n",
              "      <th>0.07017</th>\n",
              "      <th>0.1812</th>\n",
              "      <th>0.05667</th>\n",
              "      <th>0.5435</th>\n",
              "      <th>0.7339</th>\n",
              "      <th>3.398</th>\n",
              "      <th>74.08</th>\n",
              "      <th>0.005225</th>\n",
              "      <th>0.01308</th>\n",
              "      <th>0.01860</th>\n",
              "      <th>0.01340</th>\n",
              "      <th>0.01389</th>\n",
              "      <th>0.003532</th>\n",
              "      <th>24.99</th>\n",
              "      <th>23.41</th>\n",
              "      <th>158.80</th>\n",
              "      <th>1956.0</th>\n",
              "      <th>0.1238</th>\n",
              "      <th>0.1866</th>\n",
              "      <th>0.2416</th>\n",
              "      <td>0.1860</td>\n",
              "      <td>0.2750</td>\n",
              "    </tr>\n",
              "    <tr>\n",
              "      <th>19.69</th>\n",
              "      <th>21.25</th>\n",
              "      <th>130.00</th>\n",
              "      <th>1203.0</th>\n",
              "      <th>0.10960</th>\n",
              "      <th>0.15990</th>\n",
              "      <th>0.1974</th>\n",
              "      <th>0.12790</th>\n",
              "      <th>0.2069</th>\n",
              "      <th>0.05999</th>\n",
              "      <th>0.7456</th>\n",
              "      <th>0.7869</th>\n",
              "      <th>4.585</th>\n",
              "      <th>94.03</th>\n",
              "      <th>0.006150</th>\n",
              "      <th>0.04006</th>\n",
              "      <th>0.03832</th>\n",
              "      <th>0.02058</th>\n",
              "      <th>0.02250</th>\n",
              "      <th>0.004571</th>\n",
              "      <th>23.57</th>\n",
              "      <th>25.53</th>\n",
              "      <th>152.50</th>\n",
              "      <th>1709.0</th>\n",
              "      <th>0.1444</th>\n",
              "      <th>0.4245</th>\n",
              "      <th>0.4504</th>\n",
              "      <td>0.2430</td>\n",
              "      <td>0.3613</td>\n",
              "    </tr>\n",
              "    <tr>\n",
              "      <th>11.42</th>\n",
              "      <th>20.38</th>\n",
              "      <th>77.58</th>\n",
              "      <th>386.1</th>\n",
              "      <th>0.14250</th>\n",
              "      <th>0.28390</th>\n",
              "      <th>0.2414</th>\n",
              "      <th>0.10520</th>\n",
              "      <th>0.2597</th>\n",
              "      <th>0.09744</th>\n",
              "      <th>0.4956</th>\n",
              "      <th>1.1560</th>\n",
              "      <th>3.445</th>\n",
              "      <th>27.23</th>\n",
              "      <th>0.009110</th>\n",
              "      <th>0.07458</th>\n",
              "      <th>0.05661</th>\n",
              "      <th>0.01867</th>\n",
              "      <th>0.05963</th>\n",
              "      <th>0.009208</th>\n",
              "      <th>14.91</th>\n",
              "      <th>26.50</th>\n",
              "      <th>98.87</th>\n",
              "      <th>567.7</th>\n",
              "      <th>0.2098</th>\n",
              "      <th>0.8663</th>\n",
              "      <th>0.6869</th>\n",
              "      <td>0.2575</td>\n",
              "      <td>0.6638</td>\n",
              "    </tr>\n",
              "    <tr>\n",
              "      <th>20.29</th>\n",
              "      <th>14.34</th>\n",
              "      <th>135.10</th>\n",
              "      <th>1297.0</th>\n",
              "      <th>0.10030</th>\n",
              "      <th>0.13280</th>\n",
              "      <th>0.1980</th>\n",
              "      <th>0.10430</th>\n",
              "      <th>0.1809</th>\n",
              "      <th>0.05883</th>\n",
              "      <th>0.7572</th>\n",
              "      <th>0.7813</th>\n",
              "      <th>5.438</th>\n",
              "      <th>94.44</th>\n",
              "      <th>0.011490</th>\n",
              "      <th>0.02461</th>\n",
              "      <th>0.05688</th>\n",
              "      <th>0.01885</th>\n",
              "      <th>0.01756</th>\n",
              "      <th>0.005115</th>\n",
              "      <th>22.54</th>\n",
              "      <th>16.67</th>\n",
              "      <th>152.20</th>\n",
              "      <th>1575.0</th>\n",
              "      <th>0.1374</th>\n",
              "      <th>0.2050</th>\n",
              "      <th>0.4000</th>\n",
              "      <td>0.1625</td>\n",
              "      <td>0.2364</td>\n",
              "    </tr>\n",
              "  </tbody>\n",
              "</table>\n",
              "</div>"
            ],
            "text/plain": [
              "                                                                                                                                                                                                        569      30\n",
              "17.99 10.38 122.80 1001.0 0.11840 0.27760 0.3001 0.14710 0.2419 0.07871 1.0950 0.9053 8.589 153.40 0.006399 0.04904 0.05373 0.01587 0.03003 0.006193 25.38 17.33 184.60 2019.0 0.1622 0.6656 0.7119  0.2654  0.4601\n",
              "20.57 17.77 132.90 1326.0 0.08474 0.07864 0.0869 0.07017 0.1812 0.05667 0.5435 0.7339 3.398 74.08  0.005225 0.01308 0.01860 0.01340 0.01389 0.003532 24.99 23.41 158.80 1956.0 0.1238 0.1866 0.2416  0.1860  0.2750\n",
              "19.69 21.25 130.00 1203.0 0.10960 0.15990 0.1974 0.12790 0.2069 0.05999 0.7456 0.7869 4.585 94.03  0.006150 0.04006 0.03832 0.02058 0.02250 0.004571 23.57 25.53 152.50 1709.0 0.1444 0.4245 0.4504  0.2430  0.3613\n",
              "11.42 20.38 77.58  386.1  0.14250 0.28390 0.2414 0.10520 0.2597 0.09744 0.4956 1.1560 3.445 27.23  0.009110 0.07458 0.05661 0.01867 0.05963 0.009208 14.91 26.50 98.87  567.7  0.2098 0.8663 0.6869  0.2575  0.6638\n",
              "20.29 14.34 135.10 1297.0 0.10030 0.13280 0.1980 0.10430 0.1809 0.05883 0.7572 0.7813 5.438 94.44  0.011490 0.02461 0.05688 0.01885 0.01756 0.005115 22.54 16.67 152.20 1575.0 0.1374 0.2050 0.4000  0.1625  0.2364"
            ]
          },
          "metadata": {
            "tags": []
          },
          "execution_count": 26
        }
      ]
    },
    {
      "cell_type": "code",
      "metadata": {
        "id": "LgDP-L2OY78c",
        "colab_type": "code",
        "colab": {}
      },
      "source": [
        "from sklearn.model_selection import train_test_split"
      ],
      "execution_count": 0,
      "outputs": []
    },
    {
      "cell_type": "code",
      "metadata": {
        "id": "0mMl_wroZzWw",
        "colab_type": "code",
        "colab": {}
      },
      "source": [
        "X_train, X_test, y_train, y_test = train_test_split(X,y,test_size=0.3)"
      ],
      "execution_count": 0,
      "outputs": []
    },
    {
      "cell_type": "code",
      "metadata": {
        "id": "ppo8SwUAcGGj",
        "colab_type": "code",
        "colab": {
          "base_uri": "https://localhost:8080/",
          "height": 88
        },
        "outputId": "0213a236-8e50-49eb-9624-67067a0f4f6c"
      },
      "source": [
        "from sklearn.svm import SVC\n",
        "clf = SVC()\n",
        "clf.fit(X_train, y_train)\n",
        "clf"
      ],
      "execution_count": 33,
      "outputs": [
        {
          "output_type": "execute_result",
          "data": {
            "text/plain": [
              "SVC(C=1.0, break_ties=False, cache_size=200, class_weight=None, coef0=0.0,\n",
              "    decision_function_shape='ovr', degree=3, gamma='scale', kernel='rbf',\n",
              "    max_iter=-1, probability=False, random_state=None, shrinking=True,\n",
              "    tol=0.001, verbose=False)"
            ]
          },
          "metadata": {
            "tags": []
          },
          "execution_count": 33
        }
      ]
    },
    {
      "cell_type": "code",
      "metadata": {
        "id": "VpiNSim0cHt2",
        "colab_type": "code",
        "colab": {}
      },
      "source": [
        "y_predict = clf.predict(X_test)"
      ],
      "execution_count": 0,
      "outputs": []
    },
    {
      "cell_type": "code",
      "metadata": {
        "id": "vVq8lTAFcJDr",
        "colab_type": "code",
        "colab": {
          "base_uri": "https://localhost:8080/",
          "height": 35
        },
        "outputId": "8f114325-f6f1-419d-9a51-1813fa2760cb"
      },
      "source": [
        "from sklearn.metrics import accuracy_score\n",
        "SCV_score = accuracy_score(y_test, y_predict)\n",
        "SCV_score"
      ],
      "execution_count": 37,
      "outputs": [
        {
          "output_type": "execute_result",
          "data": {
            "text/plain": [
              "0.935672514619883"
            ]
          },
          "metadata": {
            "tags": []
          },
          "execution_count": 37
        }
      ]
    },
    {
      "cell_type": "code",
      "metadata": {
        "id": "LqWWhoo8dkI3",
        "colab_type": "code",
        "colab": {}
      },
      "source": [
        ""
      ],
      "execution_count": 0,
      "outputs": []
    }
  ]
}