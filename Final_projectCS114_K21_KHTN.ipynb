{
  "nbformat": 4,
  "nbformat_minor": 0,
  "metadata": {
    "colab": {
      "name": "Final_projectCS114.K21.KHTN",
      "provenance": [],
      "authorship_tag": "ABX9TyPHc6O7x/SDsjXvO8iM760w",
      "include_colab_link": true
    },
    "kernelspec": {
      "name": "python3",
      "display_name": "Python 3"
    }
  },
  "cells": [
    {
      "cell_type": "markdown",
      "metadata": {
        "id": "view-in-github",
        "colab_type": "text"
      },
      "source": [
        "<a href=\"https://colab.research.google.com/github/shaking54/CS114.K21.KHTN/blob/master/Final_projectCS114_K21_KHTN.ipynb\" target=\"_parent\"><img src=\"https://colab.research.google.com/assets/colab-badge.svg\" alt=\"Open In Colab\"/></a>"
      ]
    },
    {
      "cell_type": "code",
      "metadata": {
        "id": "i49uUmNwv8cL",
        "colab_type": "code",
        "colab": {}
      },
      "source": [
        ""
      ],
      "execution_count": 0,
      "outputs": []
    },
    {
      "cell_type": "markdown",
      "metadata": {
        "id": "Yf6JwPDZwHiE",
        "colab_type": "text"
      },
      "source": [
        "1. Mô tả bài toán\n",
        "  \n",
        "  Input: Một image của người\n",
        "  \n",
        "  Ouput: Giới tính là Nam hoặc nữ"
      ]
    },
    {
      "cell_type": "markdown",
      "metadata": {
        "id": "ds1mWMevv9u_",
        "colab_type": "text"
      },
      "source": [
        "2. Mô tả bộ dữ liệu "
      ]
    }
  ]
}