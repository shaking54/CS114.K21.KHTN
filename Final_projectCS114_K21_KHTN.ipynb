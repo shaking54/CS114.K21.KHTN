{
  "nbformat": 4,
  "nbformat_minor": 0,
  "metadata": {
    "colab": {
      "name": "Final_projectCS114.K21.KHTN",
      "provenance": [],
      "collapsed_sections": [],
      "authorship_tag": "ABX9TyP1b3z89C503uPO799T/IZY",
      "include_colab_link": true
    },
    "kernelspec": {
      "name": "python3",
      "display_name": "Python 3"
    }
  },
  "cells": [
    {
      "cell_type": "markdown",
      "metadata": {
        "id": "view-in-github",
        "colab_type": "text"
      },
      "source": [
        "<a href=\"https://colab.research.google.com/github/shaking54/CS114.K21.KHTN/blob/master/Final_projectCS114_K21_KHTN.ipynb\" target=\"_parent\"><img src=\"https://colab.research.google.com/assets/colab-badge.svg\" alt=\"Open In Colab\"/></a>"
      ]
    },
    {
      "cell_type": "code",
      "metadata": {
        "id": "i49uUmNwv8cL",
        "colab_type": "code",
        "colab": {}
      },
      "source": [
        ""
      ],
      "execution_count": 0,
      "outputs": []
    },
    {
      "cell_type": "markdown",
      "metadata": {
        "id": "6hgir02kwjgi",
        "colab_type": "text"
      },
      "source": [
        "#**Đề tài: Nhận diện giới tính thông qua hình ảnh**\n",
        "\n",
        "\n"
      ]
    },
    {
      "cell_type": "markdown",
      "metadata": {
        "id": "Yf6JwPDZwHiE",
        "colab_type": "text"
      },
      "source": [
        "I. Mô tả bài toán\n",
        "  \n",
        "  Input: Một image của người\n",
        "\n",
        "  Ouput: Giới tính là Nam hoặc nữ"
      ]
    },
    {
      "cell_type": "markdown",
      "metadata": {
        "id": "ds1mWMevv9u_",
        "colab_type": "text"
      },
      "source": [
        "II. Mô tả bộ dữ liệu \n",
        "\n",
        "  - Sử dụng bộ dữ liệu trên kaggle và sẽ bổ sung thêm dữ liệu xây dựng\n",
        "\n",
        "  - Bộ dữ liệu hiện tại đã có 3354 file jpg. Trong đó gồm có 1414 file ảnh là người có giới tính nam, 1904 file là người có giới tính nữ\n",
        "  \n",
        "  - Phân chia bộ dữ liệu: 70% file ảnh sẽ được làm training set. (70% này gồm có 990 ảnh giới tính nam và 1332 ảnh giới tính nữ) còn lại 30% bộ dữ liệu sẽ làm testset (gôm 424 ảnh nam và 571 ảnh nữ)\n",
        "\n",
        "  - Tiền xử lý dữ liệu: resize bộ dữ liệu, cắt ảnh, tăng cường dữ liệu\n",
        "\n",
        "  "
      ]
    },
    {
      "cell_type": "markdown",
      "metadata": {
        "id": "IHAX2iwDylGR",
        "colab_type": "text"
      },
      "source": [
        "III. Mô tả đặc trưng "
      ]
    },
    {
      "cell_type": "markdown",
      "metadata": {
        "id": "SEbnDINcyrEI",
        "colab_type": "text"
      },
      "source": [
        "IV. Mô tả thuật toán máy học.\n",
        "\n",
        "  - Sẽ sử dụng nhiều thuật toán classification khác nhau để có cái nhìn khác nhau về các thuật toán.\n",
        "  Ví dụ: SVM classification, Decision Tree Classification, ..."
      ]
    },
    {
      "cell_type": "markdown",
      "metadata": {
        "id": "24Bviqxfz85f",
        "colab_type": "text"
      },
      "source": [
        "V. Cài đặt, Tinh chỉnh tham số"
      ]
    },
    {
      "cell_type": "markdown",
      "metadata": {
        "id": "rW-ZxoGW0Hwf",
        "colab_type": "text"
      },
      "source": [
        "VI. Đánh giá kết quả, kết luật"
      ]
    }
  ]
}