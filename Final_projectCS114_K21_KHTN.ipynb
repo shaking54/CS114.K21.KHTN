{
  "nbformat": 4,
  "nbformat_minor": 0,
  "metadata": {
    "colab": {
      "name": "Final_projectCS114.K21.KHTN",
      "provenance": [],
      "collapsed_sections": [],
      "authorship_tag": "ABX9TyN25ErzgzdSrADPdHBLY1+L",
      "include_colab_link": true
    },
    "kernelspec": {
      "name": "python3",
      "display_name": "Python 3"
    }
  },
  "cells": [
    {
      "cell_type": "markdown",
      "metadata": {
        "id": "view-in-github",
        "colab_type": "text"
      },
      "source": [
        "<a href=\"https://colab.research.google.com/github/shaking54/CS114.K21.KHTN/blob/master/Final_projectCS114_K21_KHTN.ipynb\" target=\"_parent\"><img src=\"https://colab.research.google.com/assets/colab-badge.svg\" alt=\"Open In Colab\"/></a>"
      ]
    },
    {
      "cell_type": "code",
      "metadata": {
        "id": "i49uUmNwv8cL",
        "colab_type": "code",
        "colab": {}
      },
      "source": [
        ""
      ],
      "execution_count": null,
      "outputs": []
    },
    {
      "cell_type": "markdown",
      "metadata": {
        "id": "6hgir02kwjgi",
        "colab_type": "text"
      },
      "source": [
        "#**Đề tài: Phân loại các tòa nhà trong UIT thông qua ảnh **\n",
        "\n",
        "\n"
      ]
    },
    {
      "cell_type": "markdown",
      "metadata": {
        "id": "Yf6JwPDZwHiE",
        "colab_type": "text"
      },
      "source": [
        "I. Mô tả bài toán\n",
        "  \n",
        "  Input: Một bức ảnh tòa nhà trong UIT\n",
        "\n",
        "  Ouput: Đó là tòa nhà trong UIT"
      ]
    },
    {
      "cell_type": "markdown",
      "metadata": {
        "id": "ds1mWMevv9u_",
        "colab_type": "text"
      },
      "source": [
        "II. Mô tả bộ dữ liệu \n",
        "\n",
        "  - Dataset tự thu thập cùng với 2 bạn Nguyễn Khánh Toàn và Võ Quốc An\n",
        "\n",
        "  - Tiền xử lý dữ liệu: resize bộ dữ liệu, cắt ảnh, tăng cường dữ liệu\n",
        "\n",
        "  "
      ]
    },
    {
      "cell_type": "markdown",
      "metadata": {
        "id": "IHAX2iwDylGR",
        "colab_type": "text"
      },
      "source": [
        "III. Mô tả đặc trưng "
      ]
    },
    {
      "cell_type": "markdown",
      "metadata": {
        "id": "SEbnDINcyrEI",
        "colab_type": "text"
      },
      "source": [
        "IV. Mô tả thuật toán máy học.\n",
        "\n",
        "  - Sẽ sử dụng nhiều thuật toán classification khác nhau để có cái nhìn khác nhau về các thuật toán.\n",
        "  Ví dụ: SVM classification, Decision Tree Classification, ..."
      ]
    },
    {
      "cell_type": "markdown",
      "metadata": {
        "id": "24Bviqxfz85f",
        "colab_type": "text"
      },
      "source": [
        "V. Cài đặt, Tinh chỉnh tham số"
      ]
    },
    {
      "cell_type": "markdown",
      "metadata": {
        "id": "rW-ZxoGW0Hwf",
        "colab_type": "text"
      },
      "source": [
        "VI. Đánh giá kết quả, kết luật"
      ]
    }
  ]
}