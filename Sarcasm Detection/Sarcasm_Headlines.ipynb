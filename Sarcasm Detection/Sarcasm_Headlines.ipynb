{
  "nbformat": 4,
  "nbformat_minor": 0,
  "metadata": {
    "colab": {
      "name": "Sarcasm_Headlines",
      "provenance": [],
      "collapsed_sections": [],
      "toc_visible": true,
      "machine_shape": "hm",
      "mount_file_id": "1xMBsWe3rKD2fhodMBdLfqPLD_UNfOfT2",
      "authorship_tag": "ABX9TyOpBjdiIpv5j45f1WPlShz6",
      "include_colab_link": true
    },
    "kernelspec": {
      "name": "python3",
      "display_name": "Python 3"
    }
  },
  "cells": [
    {
      "cell_type": "markdown",
      "metadata": {
        "id": "view-in-github",
        "colab_type": "text"
      },
      "source": [
        "<a href=\"https://colab.research.google.com/github/shaking54/CS114.K21.KHTN/blob/master/Sarcasm_Headlines.ipynb\" target=\"_parent\"><img src=\"https://colab.research.google.com/assets/colab-badge.svg\" alt=\"Open In Colab\"/></a>"
      ]
    },
    {
      "cell_type": "markdown",
      "metadata": {
        "id": "XlcE7wgBExyp",
        "colab_type": "text"
      },
      "source": [
        "#*Sarcasm Dectection\n",
        "https://www.kaggle.com/rmisra/news-headlines-dataset-for-sarcasm-detection\n",
        "\n",
        "- Input bài toán: Một chuỗi string\n",
        "\n",
        "- Output: Chuỗi string nhận được có mang tính Sarcastic hay không\n",
        "\n",
        "####*Thu thập dữ liệu\n",
        "\n",
        "- Dữ liệu cũ về Sarcasm dectection được lấy từ Twitters. Tuy nhiên, do dữ liệu này có độ nhiễu nên vẫn còn hạn chế. Để vượt qua được điểm này thì dữ liệu mới về Sarcasm detection được lấy từ 2 websites đó là https://www.theonion.com/ và https://www.huffpost.com . Về dữ liệu mang tính Sarcastic thì được lấy từ trang web TheOnion ở trong mục News in Brief và News in Photos categories. Còn dữ liệu không mang tính Sarcastic thì được lấy từ trang web HuffPost.\n"
      ]
    },
    {
      "cell_type": "code",
      "metadata": {
        "id": "vxdXVGzwlrm-",
        "colab_type": "code",
        "colab": {
          "base_uri": "https://localhost:8080/",
          "height": 195
        },
        "outputId": "8228979d-7224-4caa-deb8-844973e13a9e"
      },
      "source": [
        "import pandas as pd\n",
        "data=pd.read_json('/content/drive/My Drive/Sarcasm_Headlines_Dataset.json', lines=True)\n",
        "data.head()"
      ],
      "execution_count": 66,
      "outputs": [
        {
          "output_type": "execute_result",
          "data": {
            "text/html": [
              "<div>\n",
              "<style scoped>\n",
              "    .dataframe tbody tr th:only-of-type {\n",
              "        vertical-align: middle;\n",
              "    }\n",
              "\n",
              "    .dataframe tbody tr th {\n",
              "        vertical-align: top;\n",
              "    }\n",
              "\n",
              "    .dataframe thead th {\n",
              "        text-align: right;\n",
              "    }\n",
              "</style>\n",
              "<table border=\"1\" class=\"dataframe\">\n",
              "  <thead>\n",
              "    <tr style=\"text-align: right;\">\n",
              "      <th></th>\n",
              "      <th>article_link</th>\n",
              "      <th>headline</th>\n",
              "      <th>is_sarcastic</th>\n",
              "    </tr>\n",
              "  </thead>\n",
              "  <tbody>\n",
              "    <tr>\n",
              "      <th>0</th>\n",
              "      <td>https://www.huffingtonpost.com/entry/versace-b...</td>\n",
              "      <td>former versace store clerk sues over secret 'b...</td>\n",
              "      <td>0</td>\n",
              "    </tr>\n",
              "    <tr>\n",
              "      <th>1</th>\n",
              "      <td>https://www.huffingtonpost.com/entry/roseanne-...</td>\n",
              "      <td>the 'roseanne' revival catches up to our thorn...</td>\n",
              "      <td>0</td>\n",
              "    </tr>\n",
              "    <tr>\n",
              "      <th>2</th>\n",
              "      <td>https://local.theonion.com/mom-starting-to-fea...</td>\n",
              "      <td>mom starting to fear son's web series closest ...</td>\n",
              "      <td>1</td>\n",
              "    </tr>\n",
              "    <tr>\n",
              "      <th>3</th>\n",
              "      <td>https://politics.theonion.com/boehner-just-wan...</td>\n",
              "      <td>boehner just wants wife to listen, not come up...</td>\n",
              "      <td>1</td>\n",
              "    </tr>\n",
              "    <tr>\n",
              "      <th>4</th>\n",
              "      <td>https://www.huffingtonpost.com/entry/jk-rowlin...</td>\n",
              "      <td>j.k. rowling wishes snape happy birthday in th...</td>\n",
              "      <td>0</td>\n",
              "    </tr>\n",
              "  </tbody>\n",
              "</table>\n",
              "</div>"
            ],
            "text/plain": [
              "                                        article_link  ... is_sarcastic\n",
              "0  https://www.huffingtonpost.com/entry/versace-b...  ...            0\n",
              "1  https://www.huffingtonpost.com/entry/roseanne-...  ...            0\n",
              "2  https://local.theonion.com/mom-starting-to-fea...  ...            1\n",
              "3  https://politics.theonion.com/boehner-just-wan...  ...            1\n",
              "4  https://www.huffingtonpost.com/entry/jk-rowlin...  ...            0\n",
              "\n",
              "[5 rows x 3 columns]"
            ]
          },
          "metadata": {
            "tags": []
          },
          "execution_count": 66
        }
      ]
    },
    {
      "cell_type": "code",
      "metadata": {
        "id": "Af5yMXHEc2Q2",
        "colab_type": "code",
        "colab": {}
      },
      "source": [
        "sarcasm = data.drop(columns='article_link')"
      ],
      "execution_count": 67,
      "outputs": []
    },
    {
      "cell_type": "markdown",
      "metadata": {
        "id": "suwkgPmBSAYP",
        "colab_type": "text"
      },
      "source": [
        "##*Xử lý dữ liệu\n",
        "\n",
        "- Các headline sẽ được chuyển về lowercase, loại bỏ các ký tự đặc biệt.\n",
        "- Sau đó sẽ phân chia dữ liệu train và dữ liệu test\n",
        "- Sử dụng Word2vec để trích xuất đặc trưng.\n",
        "- Khai báo Vectorize để biểu diễn dữ liệu train dưới dạng vector và tạo một từ điển từ dữ liệu train\n",
        "- Sử dụng lại từ điển của dữ liệu trên để biểu diễn dữ liệu test dưới dạng vector"
      ]
    },
    {
      "cell_type": "code",
      "metadata": {
        "id": "-iapgqXdFHLq",
        "colab_type": "code",
        "colab": {}
      },
      "source": [
        "import re\n",
        "def pre_process(headline):\n",
        "\theadline = headline.lower()                                               \n",
        "\theadline = re.sub(\"&lt;/?.*?&gt;\",\" &lt;&gt; \", headline)     \n",
        "\theadline = re.sub(\"(\\\\d|\\\\W)+\",\" \", headline)                   \n",
        "\treturn headline\n",
        "\n",
        "sarcasm['headline'] = sarcasm['headline'].apply(lambda x:pre_process(x))"
      ],
      "execution_count": 68,
      "outputs": []
    },
    {
      "cell_type": "code",
      "metadata": {
        "id": "ttkg8vQOQ35b",
        "colab_type": "code",
        "colab": {}
      },
      "source": [
        "from sklearn.model_selection import train_test_split\n",
        "X = sarcasm['headline']\n",
        "y = sarcasm['is_sarcastic']\n",
        "X_train, X_test, y_train, y_test = train_test_split(X, y, test_size = 0.3)"
      ],
      "execution_count": 69,
      "outputs": []
    },
    {
      "cell_type": "code",
      "metadata": {
        "id": "IU5pjKWAnI32",
        "colab_type": "code",
        "colab": {}
      },
      "source": [
        "from sklearn.feature_extraction.text import CountVectorizer, TfidfVectorizer\n",
        "\n",
        "vectorizer1 = CountVectorizer(analyzer='word',ngram_range=(1,1))\n",
        "X_train = vectorizer1.fit_transform(X_train)\n",
        "\n",
        "vectorizer2 = CountVectorizer(vocabulary=vectorizer1.vocabulary_,ngram_range=(1,1))\n",
        "X_test = vectorizer2.fit_transform(X_test)"
      ],
      "execution_count": 70,
      "outputs": []
    },
    {
      "cell_type": "markdown",
      "metadata": {
        "id": "UyJzkevSTjCb",
        "colab_type": "text"
      },
      "source": [
        "##Chọn Model để train dữ liệu\n",
        "- Sử dụng các thuật toán như Suport vector classifications, Decision Tree classifications, Random Forest Classification, Voting Classification.\n"
      ]
    },
    {
      "cell_type": "code",
      "metadata": {
        "id": "1EPAIEagFoHL",
        "colab_type": "code",
        "colab": {
          "base_uri": "https://localhost:8080/",
          "height": 34
        },
        "outputId": "7dd193d8-c476-47d2-d28f-16452fbafc3f"
      },
      "source": [
        "from sklearn.metrics import accuracy_score\n",
        "from sklearn.svm import SVC\n",
        "SVClassifiers = SVC()\n",
        "SVClassifiers.fit(X_train, y_train)\n",
        "SVC_predict = SVClassifiers.predict(X_test)\n",
        "SCV_score = accuracy_score(y_test, SVC_predict)\n",
        "SCV_score"
      ],
      "execution_count": 71,
      "outputs": [
        {
          "output_type": "execute_result",
          "data": {
            "text/plain": [
              "0.840134780980906"
            ]
          },
          "metadata": {
            "tags": []
          },
          "execution_count": 71
        }
      ]
    },
    {
      "cell_type": "code",
      "metadata": {
        "id": "RvMSWp-kev6W",
        "colab_type": "code",
        "colab": {
          "base_uri": "https://localhost:8080/",
          "height": 34
        },
        "outputId": "ba1a2959-0a9d-4d55-b7e2-2bb9552b0c90"
      },
      "source": [
        "from sklearn.tree import DecisionTreeClassifier\n",
        "\n",
        "Decisionclassifier = DecisionTreeClassifier()\n",
        "Decisionclassifier.fit(X_train, y_train)\n",
        "Decisionclassifier_predict = Decisionclassifier.predict(X_test)\n",
        "Decisionclassifier_score = accuracy_score(y_test, Decisionclassifier_predict)\n",
        "Decisionclassifier_score"
      ],
      "execution_count": 72,
      "outputs": [
        {
          "output_type": "execute_result",
          "data": {
            "text/plain": [
              "0.7538999126419568"
            ]
          },
          "metadata": {
            "tags": []
          },
          "execution_count": 72
        }
      ]
    },
    {
      "cell_type": "code",
      "metadata": {
        "id": "fjNV8fZThpcd",
        "colab_type": "code",
        "colab": {
          "base_uri": "https://localhost:8080/",
          "height": 34
        },
        "outputId": "b25a298b-f55e-44cc-b9ce-092c39dd6179"
      },
      "source": [
        "from sklearn.ensemble import RandomForestClassifier\n",
        "RFClassifier = RandomForestClassifier()\n",
        "RFClassifier.fit(X_train, y_train)\n",
        "RFClassifier_predict = RFClassifier.predict(X_test)\n",
        "RFClassifier_score = accuracy_score(y_test, RFClassifier_predict)\n",
        "RFClassifier_score"
      ],
      "execution_count": 73,
      "outputs": [
        {
          "output_type": "execute_result",
          "data": {
            "text/plain": [
              "0.8090602770497941"
            ]
          },
          "metadata": {
            "tags": []
          },
          "execution_count": 73
        }
      ]
    },
    {
      "cell_type": "code",
      "metadata": {
        "id": "6GAoi_EBxjcQ",
        "colab_type": "code",
        "colab": {}
      },
      "source": [
        "# from sklearn.ensemble import VotingClassifier\n",
        "# from sklearn.svm import SVC\n",
        "# from sklearn.ensemble import RandomForestClassifier\n",
        "# from sklearn.tree import DecisionTreeClassifier\n",
        "# RFClassifier = RandomForestClassifier()\n",
        "# SVClassifiers = SVC()\n",
        "# Decisionclassifier = DecisionTreeClassifier()\n",
        "# voting_clf = VotingClassifier(\n",
        "#         estimators=[('svc', clf), ('rf', random_clf), ('dc', tree_clf)],\n",
        "#         voting='hard'\n",
        "# )"
      ],
      "execution_count": 74,
      "outputs": []
    },
    {
      "cell_type": "markdown",
      "metadata": {
        "id": "1gsyE-DaVkVQ",
        "colab_type": "text"
      },
      "source": [
        "#* Chạy Model đã train với dữ liệu mới tạo được\n",
        "- Model Support vector machine classifications\n",
        "    - performance được 80.9% so với trên dữ liệu test là xấp xỉ 83%\n",
        "\n",
        "- Model Decision Tree classifications\n",
        "    - Performance được 68.5 % so với xấp xỉ 75% với dữ liệu test\n",
        "\n",
        "- Model Random Forest Classifications\n",
        "    - Performance được 73.3 % so với xấp xỉ 81% trên dữ liệu test\n",
        "\n"
      ]
    },
    {
      "cell_type": "code",
      "metadata": {
        "id": "XqZS-yahrMZb",
        "colab_type": "code",
        "colab": {
          "base_uri": "https://localhost:8080/",
          "height": 402
        },
        "outputId": "abb244fb-12a1-41ba-d54d-4c2f2fa27d76"
      },
      "source": [
        "newdata = pd.read_json('/content/drive/My Drive/headline_data.json', lines=True)\n",
        "newdata"
      ],
      "execution_count": 90,
      "outputs": [
        {
          "output_type": "execute_result",
          "data": {
            "text/html": [
              "<div>\n",
              "<style scoped>\n",
              "    .dataframe tbody tr th:only-of-type {\n",
              "        vertical-align: middle;\n",
              "    }\n",
              "\n",
              "    .dataframe tbody tr th {\n",
              "        vertical-align: top;\n",
              "    }\n",
              "\n",
              "    .dataframe thead th {\n",
              "        text-align: right;\n",
              "    }\n",
              "</style>\n",
              "<table border=\"1\" class=\"dataframe\">\n",
              "  <thead>\n",
              "    <tr style=\"text-align: right;\">\n",
              "      <th></th>\n",
              "      <th>headline</th>\n",
              "      <th>is_sarcastic</th>\n",
              "    </tr>\n",
              "  </thead>\n",
              "  <tbody>\n",
              "    <tr>\n",
              "      <th>0</th>\n",
              "      <td>ExxonMobil Simplifies Oil Extraction By Cuttin...</td>\n",
              "      <td>1</td>\n",
              "    </tr>\n",
              "    <tr>\n",
              "      <th>1</th>\n",
              "      <td>Quaker Oats Replaces Historically Racist Aunt ...</td>\n",
              "      <td>1</td>\n",
              "    </tr>\n",
              "    <tr>\n",
              "      <th>2</th>\n",
              "      <td>Showrunner Worried This A Bad Time For New Ser...</td>\n",
              "      <td>1</td>\n",
              "    </tr>\n",
              "    <tr>\n",
              "      <th>3</th>\n",
              "      <td>Anna Kendrick’s ‘Love Life’ Pulled From HBO Ma...</td>\n",
              "      <td>1</td>\n",
              "    </tr>\n",
              "    <tr>\n",
              "      <th>4</th>\n",
              "      <td>South Secedes From NASCAR Following Confederat...</td>\n",
              "      <td>1</td>\n",
              "    </tr>\n",
              "    <tr>\n",
              "      <th>...</th>\n",
              "      <td>...</td>\n",
              "      <td>...</td>\n",
              "    </tr>\n",
              "    <tr>\n",
              "      <th>1995</th>\n",
              "      <td>Susan Rice Explains Exactly Why Trump's White ...</td>\n",
              "      <td>0</td>\n",
              "    </tr>\n",
              "    <tr>\n",
              "      <th>1996</th>\n",
              "      <td>Scathing Supercut Shows How Quickly Trump Flip...</td>\n",
              "      <td>0</td>\n",
              "    </tr>\n",
              "    <tr>\n",
              "      <th>1997</th>\n",
              "      <td>Trump's 'Racist' Toddler Video Removed By Face...</td>\n",
              "      <td>0</td>\n",
              "    </tr>\n",
              "    <tr>\n",
              "      <th>1998</th>\n",
              "      <td>50 Years After MLK, Pastors Lead A New Poor Pe...</td>\n",
              "      <td>0</td>\n",
              "    </tr>\n",
              "    <tr>\n",
              "      <th>1999</th>\n",
              "      <td>William Barr Says U.S. Attorney In Manhattan I...</td>\n",
              "      <td>0</td>\n",
              "    </tr>\n",
              "  </tbody>\n",
              "</table>\n",
              "<p>2000 rows × 2 columns</p>\n",
              "</div>"
            ],
            "text/plain": [
              "                                               headline  is_sarcastic\n",
              "0     ExxonMobil Simplifies Oil Extraction By Cuttin...             1\n",
              "1     Quaker Oats Replaces Historically Racist Aunt ...             1\n",
              "2     Showrunner Worried This A Bad Time For New Ser...             1\n",
              "3     Anna Kendrick’s ‘Love Life’ Pulled From HBO Ma...             1\n",
              "4     South Secedes From NASCAR Following Confederat...             1\n",
              "...                                                 ...           ...\n",
              "1995  Susan Rice Explains Exactly Why Trump's White ...             0\n",
              "1996  Scathing Supercut Shows How Quickly Trump Flip...             0\n",
              "1997  Trump's 'Racist' Toddler Video Removed By Face...             0\n",
              "1998  50 Years After MLK, Pastors Lead A New Poor Pe...             0\n",
              "1999  William Barr Says U.S. Attorney In Manhattan I...             0\n",
              "\n",
              "[2000 rows x 2 columns]"
            ]
          },
          "metadata": {
            "tags": []
          },
          "execution_count": 90
        }
      ]
    },
    {
      "cell_type": "code",
      "metadata": {
        "id": "-Z0Svk92rnKS",
        "colab_type": "code",
        "colab": {}
      },
      "source": [
        "newdata['headline'] = newdata['headline'].apply(lambda x:pre_process(x))\n",
        "Xtest = newdata['headline']\n",
        "ytest = newdata['is_sarcastic']\n",
        "\n",
        "Xtest = vectorizer2.fit_transform(Xtest)"
      ],
      "execution_count": 91,
      "outputs": []
    },
    {
      "cell_type": "code",
      "metadata": {
        "id": "qdjXsfUgWMmG",
        "colab_type": "code",
        "colab": {
          "base_uri": "https://localhost:8080/",
          "height": 67
        },
        "outputId": "b34d41e3-cd4a-48be-9d2c-e73e07044679"
      },
      "source": [
        "for cls in [SVClassifiers, Decisionclassifier,RFClassifier]:\n",
        "    ypred = cls.predict(Xtest)\n",
        "    yscore = accuracy_score(ytest, ypred)\n",
        "    print(cls.__class__.__name__, yscore)"
      ],
      "execution_count": 92,
      "outputs": [
        {
          "output_type": "stream",
          "text": [
            "SVC 0.806\n",
            "DecisionTreeClassifier 0.685\n",
            "RandomForestClassifier 0.733\n"
          ],
          "name": "stdout"
        }
      ]
    },
    {
      "cell_type": "code",
      "metadata": {
        "id": "Dmz6v2xuUkyw",
        "colab_type": "code",
        "colab": {
          "base_uri": "https://localhost:8080/",
          "height": 84
        },
        "outputId": "9a6d96b0-ea11-4cc3-c37a-e3ab68d00d61"
      },
      "source": [
        "headline = input(\"Enter headline: \")\n",
        "for cls in [SVClassifiers, Decisionclassifier,RFClassifier]:\n",
        "    print(cls.__class__.__name__, cls.predict(vectorizer2.transform([pre_process(headline)])))"
      ],
      "execution_count": 96,
      "outputs": [
        {
          "output_type": "stream",
          "text": [
            "Enter headline: After Weeks Of Anticipation, Trump Rally Crowd Underwhelms\n",
            "SVC [0]\n",
            "DecisionTreeClassifier [0]\n",
            "RandomForestClassifier [0]\n"
          ],
          "name": "stdout"
        }
      ]
    },
    {
      "cell_type": "code",
      "metadata": {
        "id": "ySue-eKxelrI",
        "colab_type": "code",
        "colab": {}
      },
      "source": [
        ""
      ],
      "execution_count": null,
      "outputs": []
    }
  ]
}