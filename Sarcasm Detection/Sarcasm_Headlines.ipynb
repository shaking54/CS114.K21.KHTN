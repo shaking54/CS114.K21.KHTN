{
  "nbformat": 4,
  "nbformat_minor": 0,
  "metadata": {
    "colab": {
      "name": "Sarcasm_Headlines",
      "provenance": [],
      "collapsed_sections": [],
      "toc_visible": true,
      "machine_shape": "hm",
      "mount_file_id": "1xMBsWe3rKD2fhodMBdLfqPLD_UNfOfT2",
      "authorship_tag": "ABX9TyM102eI68PkGDYgxgnTpYSl",
      "include_colab_link": true
    },
    "kernelspec": {
      "name": "python3",
      "display_name": "Python 3"
    }
  },
  "cells": [
    {
      "cell_type": "markdown",
      "metadata": {
        "id": "view-in-github",
        "colab_type": "text"
      },
      "source": [
        "<a href=\"https://colab.research.google.com/github/shaking54/CS114.K21.KHTN/blob/master/Sarcasm%20Detection/Sarcasm_Headlines.ipynb\" target=\"_parent\"><img src=\"https://colab.research.google.com/assets/colab-badge.svg\" alt=\"Open In Colab\"/></a>"
      ]
    },
    {
      "cell_type": "markdown",
      "metadata": {
        "id": "XlcE7wgBExyp",
        "colab_type": "text"
      },
      "source": [
        "#*Sarcasm Dectection\n",
        "https://www.kaggle.com/rmisra/news-headlines-dataset-for-sarcasm-detection\n",
        "\n",
        "- Input bài toán: Một chuỗi string\n",
        "\n",
        "- Output: Chuỗi string nhận được có mang tính Sarcastic hay không\n",
        "\n",
        "####*Thu thập dữ liệu\n",
        "\n",
        "- Dữ liệu cũ về Sarcasm dectection được lấy từ Twitters. Tuy nhiên, do dữ liệu này có độ nhiễu nên vẫn còn hạn chế. Để vượt qua được điểm này thì dữ liệu mới về Sarcasm detection được lấy từ 2 websites đó là https://www.theonion.com/ và https://www.huffpost.com . Về dữ liệu mang tính Sarcastic thì được lấy từ trang web TheOnion ở trong mục News in Brief và News in Photos categories. Còn dữ liệu không mang tính Sarcastic thì được lấy từ trang web HuffPost.\n"
      ]
    },
    {
      "cell_type": "code",
      "metadata": {
        "id": "fSodQJ-NY27Y",
        "colab_type": "code",
        "colab": {
          "base_uri": "https://localhost:8080/",
          "height": 204
        },
        "outputId": "591b2e2f-9dd5-4bbd-9fc8-303dff4efea8"
      },
      "source": [
        "!wget https://raw.githubusercontent.com/shaking54/CS114.K21.KHTN/master/Sarcasm%20Detection/Sarcasm_Headlines_Dataset.json"
      ],
      "execution_count": 1,
      "outputs": [
        {
          "output_type": "stream",
          "text": [
            "--2020-06-25 13:51:47--  https://raw.githubusercontent.com/shaking54/CS114.K21.KHTN/master/Sarcasm%20Detection/Sarcasm_Headlines_Dataset.json\n",
            "Resolving raw.githubusercontent.com (raw.githubusercontent.com)... 151.101.0.133, 151.101.64.133, 151.101.128.133, ...\n",
            "Connecting to raw.githubusercontent.com (raw.githubusercontent.com)|151.101.0.133|:443... connected.\n",
            "HTTP request sent, awaiting response... 200 OK\n",
            "Length: 5616830 (5.4M) [text/plain]\n",
            "Saving to: ‘Sarcasm_Headlines_Dataset.json’\n",
            "\n",
            "Sarcasm_Headlines_D 100%[===================>]   5.36M  14.4MB/s    in 0.4s    \n",
            "\n",
            "2020-06-25 13:51:48 (14.4 MB/s) - ‘Sarcasm_Headlines_Dataset.json’ saved [5616830/5616830]\n",
            "\n"
          ],
          "name": "stdout"
        }
      ]
    },
    {
      "cell_type": "code",
      "metadata": {
        "id": "vxdXVGzwlrm-",
        "colab_type": "code",
        "colab": {
          "base_uri": "https://localhost:8080/",
          "height": 204
        },
        "outputId": "19e1b788-2a6a-4d0a-9ec2-c872a0024663"
      },
      "source": [
        "import pandas as pd\n",
        "data=pd.read_json('/content/Sarcasm_Headlines_Dataset.json', lines=True) #Load dataset from json file\n",
        "data.head() #get 5 samples from dataset"
      ],
      "execution_count": 2,
      "outputs": [
        {
          "output_type": "execute_result",
          "data": {
            "text/html": [
              "<div>\n",
              "<style scoped>\n",
              "    .dataframe tbody tr th:only-of-type {\n",
              "        vertical-align: middle;\n",
              "    }\n",
              "\n",
              "    .dataframe tbody tr th {\n",
              "        vertical-align: top;\n",
              "    }\n",
              "\n",
              "    .dataframe thead th {\n",
              "        text-align: right;\n",
              "    }\n",
              "</style>\n",
              "<table border=\"1\" class=\"dataframe\">\n",
              "  <thead>\n",
              "    <tr style=\"text-align: right;\">\n",
              "      <th></th>\n",
              "      <th>article_link</th>\n",
              "      <th>headline</th>\n",
              "      <th>is_sarcastic</th>\n",
              "    </tr>\n",
              "  </thead>\n",
              "  <tbody>\n",
              "    <tr>\n",
              "      <th>0</th>\n",
              "      <td>https://www.huffingtonpost.com/entry/versace-b...</td>\n",
              "      <td>former versace store clerk sues over secret 'b...</td>\n",
              "      <td>0</td>\n",
              "    </tr>\n",
              "    <tr>\n",
              "      <th>1</th>\n",
              "      <td>https://www.huffingtonpost.com/entry/roseanne-...</td>\n",
              "      <td>the 'roseanne' revival catches up to our thorn...</td>\n",
              "      <td>0</td>\n",
              "    </tr>\n",
              "    <tr>\n",
              "      <th>2</th>\n",
              "      <td>https://local.theonion.com/mom-starting-to-fea...</td>\n",
              "      <td>mom starting to fear son's web series closest ...</td>\n",
              "      <td>1</td>\n",
              "    </tr>\n",
              "    <tr>\n",
              "      <th>3</th>\n",
              "      <td>https://politics.theonion.com/boehner-just-wan...</td>\n",
              "      <td>boehner just wants wife to listen, not come up...</td>\n",
              "      <td>1</td>\n",
              "    </tr>\n",
              "    <tr>\n",
              "      <th>4</th>\n",
              "      <td>https://www.huffingtonpost.com/entry/jk-rowlin...</td>\n",
              "      <td>j.k. rowling wishes snape happy birthday in th...</td>\n",
              "      <td>0</td>\n",
              "    </tr>\n",
              "  </tbody>\n",
              "</table>\n",
              "</div>"
            ],
            "text/plain": [
              "                                        article_link  ... is_sarcastic\n",
              "0  https://www.huffingtonpost.com/entry/versace-b...  ...            0\n",
              "1  https://www.huffingtonpost.com/entry/roseanne-...  ...            0\n",
              "2  https://local.theonion.com/mom-starting-to-fea...  ...            1\n",
              "3  https://politics.theonion.com/boehner-just-wan...  ...            1\n",
              "4  https://www.huffingtonpost.com/entry/jk-rowlin...  ...            0\n",
              "\n",
              "[5 rows x 3 columns]"
            ]
          },
          "metadata": {
            "tags": []
          },
          "execution_count": 2
        }
      ]
    },
    {
      "cell_type": "code",
      "metadata": {
        "id": "Af5yMXHEc2Q2",
        "colab_type": "code",
        "colab": {}
      },
      "source": [
        "sarcasm = data.drop(columns='article_link') # drop the column article_link"
      ],
      "execution_count": 3,
      "outputs": []
    },
    {
      "cell_type": "markdown",
      "metadata": {
        "id": "suwkgPmBSAYP",
        "colab_type": "text"
      },
      "source": [
        "##*Xử lý dữ liệu\n",
        "\n",
        "- Các headline sẽ được chuyển về lowercase, loại bỏ các ký tự đặc biệt.\n",
        "- Sau đó sẽ phân chia dữ liệu train và dữ liệu test\n",
        "- Khai báo Vectorize để biểu diễn dữ liệu train dưới dạng vector và tạo một từ điển từ dữ liệu train\n",
        "- Sử dụng lại từ điển của dữ liệu trên để biểu diễn dữ liệu test dưới dạng vector"
      ]
    },
    {
      "cell_type": "code",
      "metadata": {
        "id": "-iapgqXdFHLq",
        "colab_type": "code",
        "colab": {
          "base_uri": "https://localhost:8080/",
          "height": 221
        },
        "outputId": "877265ef-b2ea-46ad-d148-bd8f206bab6d"
      },
      "source": [
        "import re\n",
        "def pre_process(headline):\n",
        "\theadline = headline.lower() # convert the headline to lower case                                      \n",
        "\theadline = re.sub(\"&lt;/?.*?&gt;\",\" &lt;&gt; \", headline) # remove \n",
        "\theadline = re.sub(\"(\\\\d|\\\\WZhe Yang)+\",\" \", headline)                   \n",
        "\treturn headline\n",
        "\n",
        "sarcasm['headline'] = sarcasm['headline'].apply(lambda x:pre_process(x))\n",
        "sarcasm['headline']"
      ],
      "execution_count": 4,
      "outputs": [
        {
          "output_type": "execute_result",
          "data": {
            "text/plain": [
              "0        former versace store clerk sues over secret 'b...\n",
              "1        the 'roseanne' revival catches up to our thorn...\n",
              "2        mom starting to fear son's web series closest ...\n",
              "3        boehner just wants wife to listen, not come up...\n",
              "4        j.k. rowling wishes snape happy birthday in th...\n",
              "                               ...                        \n",
              "26704                 american politics in moral free-fall\n",
              "26705                               america's best   hikes\n",
              "26706                                reparations and obama\n",
              "26707    israeli ban targeting boycott supporters raise...\n",
              "26708                       gourmet gifts for the foodie  \n",
              "Name: headline, Length: 26709, dtype: object"
            ]
          },
          "metadata": {
            "tags": []
          },
          "execution_count": 4
        }
      ]
    },
    {
      "cell_type": "code",
      "metadata": {
        "id": "ttkg8vQOQ35b",
        "colab_type": "code",
        "colab": {}
      },
      "source": [
        "from sklearn.model_selection import train_test_split\n",
        "X = sarcasm['headline']\n",
        "y = sarcasm['is_sarcastic']\n",
        "X_train, X_test, y_train, y_test = train_test_split(X, y, test_size = 0.3) #split train set and test set"
      ],
      "execution_count": 5,
      "outputs": []
    },
    {
      "cell_type": "code",
      "metadata": {
        "id": "IU5pjKWAnI32",
        "colab_type": "code",
        "colab": {}
      },
      "source": [
        "from sklearn.feature_extraction.text import CountVectorizer, TfidfVectorizer\n",
        "\n",
        "vectorizer1 = CountVectorizer(analyzer='word',ngram_range=(1,1), max_features=10000)\n",
        "X_train = vectorizer1.fit_transform(X_train)\n",
        "\n",
        "vectorizer2 = CountVectorizer(vocabulary=vectorizer1.vocabulary_,ngram_range=(1,1))\n",
        "X_test = vectorizer2.fit_transform(X_test)"
      ],
      "execution_count": 6,
      "outputs": []
    },
    {
      "cell_type": "code",
      "metadata": {
        "id": "P7RIb-awkWBU",
        "colab_type": "code",
        "colab": {
          "base_uri": "https://localhost:8080/",
          "height": 34
        },
        "outputId": "3f31d9ad-fb21-404a-bd9a-60eeb2692667"
      },
      "source": [
        "X_train.shape"
      ],
      "execution_count": 7,
      "outputs": [
        {
          "output_type": "execute_result",
          "data": {
            "text/plain": [
              "(18696, 10000)"
            ]
          },
          "metadata": {
            "tags": []
          },
          "execution_count": 7
        }
      ]
    },
    {
      "cell_type": "markdown",
      "metadata": {
        "id": "UyJzkevSTjCb",
        "colab_type": "text"
      },
      "source": [
        "##Chọn Model để train dữ liệu\n",
        "- Sử dụng các thuật toán như Suport vector classifications, Decision Tree classifications, Random Forest Classification, Voting Classification.\n"
      ]
    },
    {
      "cell_type": "code",
      "metadata": {
        "id": "1EPAIEagFoHL",
        "colab_type": "code",
        "colab": {
          "base_uri": "https://localhost:8080/",
          "height": 34
        },
        "outputId": "3a5de601-8f08-4580-b068-85d349c9438c"
      },
      "source": [
        "from sklearn.metrics import accuracy_score\n",
        "from sklearn.svm import SVC\n",
        "SVClassifiers = SVC()\n",
        "SVClassifiers.fit(X_train, y_train, )\n",
        "SVC_predict = SVClassifiers.predict(X_test)\n",
        "SCV_score = accuracy_score(y_test, SVC_predict)\n",
        "SCV_score"
      ],
      "execution_count": 8,
      "outputs": [
        {
          "output_type": "execute_result",
          "data": {
            "text/plain": [
              "0.8451266691626108"
            ]
          },
          "metadata": {
            "tags": []
          },
          "execution_count": 8
        }
      ]
    },
    {
      "cell_type": "code",
      "metadata": {
        "id": "QosV3PbCciG0",
        "colab_type": "code",
        "colab": {
          "base_uri": "https://localhost:8080/",
          "height": 34
        },
        "outputId": "cba19b47-c162-4500-feb2-a2ad94023bab"
      },
      "source": [
        "from sklearn.svm import LinearSVC\n",
        "\n",
        "LinearSVClassifier = LinearSVC()\n",
        "LinearSVClassifier.fit(X_train, y_train)\n",
        "Linear_predict = LinearSVClassifier.predict(X_test)\n",
        "Linearscore = accuracy_score(y_test, Linear_predict)\n",
        "Linearscore "
      ],
      "execution_count": 9,
      "outputs": [
        {
          "output_type": "execute_result",
          "data": {
            "text/plain": [
              "0.8133033820042431"
            ]
          },
          "metadata": {
            "tags": []
          },
          "execution_count": 9
        }
      ]
    },
    {
      "cell_type": "code",
      "metadata": {
        "id": "RvMSWp-kev6W",
        "colab_type": "code",
        "colab": {
          "base_uri": "https://localhost:8080/",
          "height": 34
        },
        "outputId": "30c9525a-6907-4b7a-89ad-c3ec88a1ea55"
      },
      "source": [
        "from sklearn.tree import DecisionTreeClassifier\n",
        "\n",
        "Decisionclassifier = DecisionTreeClassifier()\n",
        "Decisionclassifier.fit(X_train, y_train)\n",
        "Decisionclassifier_predict = Decisionclassifier.predict(X_test)\n",
        "Decisionclassifier_score = accuracy_score(y_test, Decisionclassifier_predict)\n",
        "Decisionclassifier_score"
      ],
      "execution_count": 10,
      "outputs": [
        {
          "output_type": "execute_result",
          "data": {
            "text/plain": [
              "0.7541495070510421"
            ]
          },
          "metadata": {
            "tags": []
          },
          "execution_count": 10
        }
      ]
    },
    {
      "cell_type": "code",
      "metadata": {
        "id": "fjNV8fZThpcd",
        "colab_type": "code",
        "colab": {
          "base_uri": "https://localhost:8080/",
          "height": 34
        },
        "outputId": "3db1daa5-aaba-430b-df3d-0e515e757fdb"
      },
      "source": [
        "from sklearn.ensemble import RandomForestClassifier\n",
        "RFClassifier = RandomForestClassifier()\n",
        "RFClassifier.fit(X_train, y_train)\n",
        "RFClassifier_predict = RFClassifier.predict(X_test)\n",
        "RFClassifier_score = accuracy_score(y_test, RFClassifier_predict)\n",
        "RFClassifier_score\n",
        "print(RFClassifier.score(X_test, y_test))"
      ],
      "execution_count": 11,
      "outputs": [
        {
          "output_type": "stream",
          "text": [
            "0.8124298015724448\n"
          ],
          "name": "stdout"
        }
      ]
    },
    {
      "cell_type": "code",
      "metadata": {
        "id": "6GAoi_EBxjcQ",
        "colab_type": "code",
        "colab": {}
      },
      "source": [
        "# from sklearn.ensemble import VotingClassifier\n",
        "# from sklearn.svm import SVC\n",
        "# from sklearn.ensemble import RandomForestClassifier\n",
        "# from sklearn.tree import DecisionTreeClassifier\n",
        "# RFClassifier = RandomForestClassifier()\n",
        "# SVClassifiers = SVC()\n",
        "# Decisionclassifier = DecisionTreeClassifier()\n",
        "# voting_clf = VotingClassifier(\n",
        "#         estimators=[('svc', clf), ('rf', random_clf), ('dc', tree_clf)],\n",
        "#         voting='hard'\n",
        "# )"
      ],
      "execution_count": 12,
      "outputs": []
    },
    {
      "cell_type": "markdown",
      "metadata": {
        "id": "fFH-wpqjTDNn",
        "colab_type": "text"
      },
      "source": [
        "#* Xử lý dữ liệu mới.\n",
        "### crawl dữ liệu mới từ 2 nguồn là Huffpost và TheOnion bằng scapper extension của google chrome\n",
        "- Sau khi crawl dữ liệu thì được 2 file .txt\n",
        "- Tiếp theo load 2 file .txt vừa crawl được lên google colab bằng pandas\n",
        "- Gán labels cho dữ liệu từ Huffpost là 0 và TheOnion bằng 1\n",
        "- Chuyển 2 bảng dữ liệu thành dataframe bằng pandas\n",
        "- Gộp 2 bảng lại và lưu xuống file json\n"
      ]
    },
    {
      "cell_type": "code",
      "metadata": {
        "id": "afDdahXLU_KX",
        "colab_type": "code",
        "colab": {}
      },
      "source": [
        "# import pandas as pd\n",
        "\n",
        "# onion = pd.read_csv('newOnion.txt', sep='\\n')\n",
        "# onion['is_sarcastic'] = 1\n",
        "# huff = pd.read_csv('Huffpost.txt', sep='\\n')\n",
        "# huff['is_sarcastic'] = 0\n",
        "# onion = pd.DataFrame(data=onion)\n",
        "# huff = pd.DataFrame(data=huff)\n",
        "# onion = onion.append(huff, sort=1)\n",
        "# onion.sample(frac=1)\n",
        "# onion.to_json('headline_data.json', orient='records', lines=True)"
      ],
      "execution_count": 13,
      "outputs": []
    },
    {
      "cell_type": "markdown",
      "metadata": {
        "id": "1gsyE-DaVkVQ",
        "colab_type": "text"
      },
      "source": [
        "#* Chạy Model đã train với dữ liệu mới tạo được\n",
        "- Model Support vector machine classifications\n",
        "    - performance được 79.2% so với trên dữ liệu test là xấp xỉ 84.5%\n",
        "\n",
        "- Model Decision Tree classifications\n",
        "    - Performance được 69.5 % so với xấp xỉ 75% với dữ liệu test\n",
        "\n",
        "- Model Random Forest Classifications\n",
        "    - Performance được 74.3 % so với xấp xỉ 81% trên dữ liệu test\n",
        "\n"
      ]
    },
    {
      "cell_type": "code",
      "metadata": {
        "id": "udptmHamaAWC",
        "colab_type": "code",
        "colab": {
          "base_uri": "https://localhost:8080/",
          "height": 204
        },
        "outputId": "c09c1285-6c1b-45e2-9b60-91053f2781d9"
      },
      "source": [
        "!wget https://raw.githubusercontent.com/shaking54/CS114.K21.KHTN/master/Sarcasm%20Detection/headline_data.json"
      ],
      "execution_count": 14,
      "outputs": [
        {
          "output_type": "stream",
          "text": [
            "--2020-06-25 13:53:51--  https://raw.githubusercontent.com/shaking54/CS114.K21.KHTN/master/Sarcasm%20Detection/headline_data.json\n",
            "Resolving raw.githubusercontent.com (raw.githubusercontent.com)... 151.101.0.133, 151.101.64.133, 151.101.128.133, ...\n",
            "Connecting to raw.githubusercontent.com (raw.githubusercontent.com)|151.101.0.133|:443... connected.\n",
            "HTTP request sent, awaiting response... 200 OK\n",
            "Length: 229984 (225K) [text/plain]\n",
            "Saving to: ‘headline_data.json’\n",
            "\n",
            "\rheadline_data.json    0%[                    ]       0  --.-KB/s               \rheadline_data.json  100%[===================>] 224.59K  --.-KB/s    in 0.05s   \n",
            "\n",
            "2020-06-25 13:53:51 (4.47 MB/s) - ‘headline_data.json’ saved [229984/229984]\n",
            "\n"
          ],
          "name": "stdout"
        }
      ]
    },
    {
      "cell_type": "code",
      "metadata": {
        "id": "XqZS-yahrMZb",
        "colab_type": "code",
        "colab": {
          "base_uri": "https://localhost:8080/",
          "height": 419
        },
        "outputId": "4e828c3a-ae4d-48b1-c8a8-6d523d4b126e"
      },
      "source": [
        "newdata = pd.read_json('/content/headline_data.json', lines=True)\n",
        "newdata.sample(frac=1)"
      ],
      "execution_count": 15,
      "outputs": [
        {
          "output_type": "execute_result",
          "data": {
            "text/html": [
              "<div>\n",
              "<style scoped>\n",
              "    .dataframe tbody tr th:only-of-type {\n",
              "        vertical-align: middle;\n",
              "    }\n",
              "\n",
              "    .dataframe tbody tr th {\n",
              "        vertical-align: top;\n",
              "    }\n",
              "\n",
              "    .dataframe thead th {\n",
              "        text-align: right;\n",
              "    }\n",
              "</style>\n",
              "<table border=\"1\" class=\"dataframe\">\n",
              "  <thead>\n",
              "    <tr style=\"text-align: right;\">\n",
              "      <th></th>\n",
              "      <th>headline</th>\n",
              "      <th>is_sarcastic</th>\n",
              "    </tr>\n",
              "  </thead>\n",
              "  <tbody>\n",
              "    <tr>\n",
              "      <th>1349</th>\n",
              "      <td>PM Defends Joining Huge Anti-Racism Protest De...</td>\n",
              "      <td>0</td>\n",
              "    </tr>\n",
              "    <tr>\n",
              "      <th>1085</th>\n",
              "      <td>Twitter Users Pile On Trump After He Asks If S...</td>\n",
              "      <td>0</td>\n",
              "    </tr>\n",
              "    <tr>\n",
              "      <th>808</th>\n",
              "      <td>Area Man Marries Woman He Barely Knows After 5...</td>\n",
              "      <td>1</td>\n",
              "    </tr>\n",
              "    <tr>\n",
              "      <th>624</th>\n",
              "      <td>Johnson &amp; Johnson CEO Idly Wonders How Much Mo...</td>\n",
              "      <td>1</td>\n",
              "    </tr>\n",
              "    <tr>\n",
              "      <th>898</th>\n",
              "      <td>Desperate Boy Scouts Officials Announce New ‘Y...</td>\n",
              "      <td>1</td>\n",
              "    </tr>\n",
              "    <tr>\n",
              "      <th>...</th>\n",
              "      <td>...</td>\n",
              "      <td>...</td>\n",
              "    </tr>\n",
              "    <tr>\n",
              "      <th>887</th>\n",
              "      <td>John Bolton Asked To Leave Condo Board Meeting...</td>\n",
              "      <td>1</td>\n",
              "    </tr>\n",
              "    <tr>\n",
              "      <th>1937</th>\n",
              "      <td>John Oliver Wants Your Help ‘Making Tucker Car...</td>\n",
              "      <td>0</td>\n",
              "    </tr>\n",
              "    <tr>\n",
              "      <th>1163</th>\n",
              "      <td>The Democratic Party Launches Its First 2020 A...</td>\n",
              "      <td>0</td>\n",
              "    </tr>\n",
              "    <tr>\n",
              "      <th>178</th>\n",
              "      <td>‘A Dash Of Soap Bubbles, 2 Pinches Of Sunshine...</td>\n",
              "      <td>1</td>\n",
              "    </tr>\n",
              "    <tr>\n",
              "      <th>457</th>\n",
              "      <td>Frito-Lay Pledges Party-Size Bag Of Plain Pota...</td>\n",
              "      <td>1</td>\n",
              "    </tr>\n",
              "  </tbody>\n",
              "</table>\n",
              "<p>2000 rows × 2 columns</p>\n",
              "</div>"
            ],
            "text/plain": [
              "                                               headline  is_sarcastic\n",
              "1349  PM Defends Joining Huge Anti-Racism Protest De...             0\n",
              "1085  Twitter Users Pile On Trump After He Asks If S...             0\n",
              "808   Area Man Marries Woman He Barely Knows After 5...             1\n",
              "624   Johnson & Johnson CEO Idly Wonders How Much Mo...             1\n",
              "898   Desperate Boy Scouts Officials Announce New ‘Y...             1\n",
              "...                                                 ...           ...\n",
              "887   John Bolton Asked To Leave Condo Board Meeting...             1\n",
              "1937  John Oliver Wants Your Help ‘Making Tucker Car...             0\n",
              "1163  The Democratic Party Launches Its First 2020 A...             0\n",
              "178   ‘A Dash Of Soap Bubbles, 2 Pinches Of Sunshine...             1\n",
              "457   Frito-Lay Pledges Party-Size Bag Of Plain Pota...             1\n",
              "\n",
              "[2000 rows x 2 columns]"
            ]
          },
          "metadata": {
            "tags": []
          },
          "execution_count": 15
        }
      ]
    },
    {
      "cell_type": "code",
      "metadata": {
        "id": "-Z0Svk92rnKS",
        "colab_type": "code",
        "colab": {}
      },
      "source": [
        "newdata['headline'] = newdata['headline'].apply(lambda x:pre_process(x))\n",
        "Xtest = newdata['headline']\n",
        "ytest = newdata['is_sarcastic']\n",
        "\n",
        "Xtest = vectorizer2.fit_transform(Xtest)"
      ],
      "execution_count": 16,
      "outputs": []
    },
    {
      "cell_type": "code",
      "metadata": {
        "id": "qdjXsfUgWMmG",
        "colab_type": "code",
        "colab": {
          "base_uri": "https://localhost:8080/",
          "height": 85
        },
        "outputId": "efe11cd7-a734-43e2-c6b6-ac711b2cd362"
      },
      "source": [
        "for cls in [SVClassifiers,LinearSVClassifier, Decisionclassifier,RFClassifier]:\n",
        "    yscore = cls.score(Xtest, ytest)\n",
        "    print(cls.__class__.__name__, yscore)"
      ],
      "execution_count": 17,
      "outputs": [
        {
          "output_type": "stream",
          "text": [
            "SVC 0.792\n",
            "LinearSVC 0.7755\n",
            "DecisionTreeClassifier 0.6905\n",
            "RandomForestClassifier 0.7495\n"
          ],
          "name": "stdout"
        }
      ]
    },
    {
      "cell_type": "markdown",
      "metadata": {
        "id": "wC-NB0IzeZg_",
        "colab_type": "text"
      },
      "source": [
        "#*Sử dụng model để dự đoán một  đoạn headline bất kì"
      ]
    },
    {
      "cell_type": "code",
      "metadata": {
        "id": "Dmz6v2xuUkyw",
        "colab_type": "code",
        "colab": {
          "base_uri": "https://localhost:8080/",
          "height": 102
        },
        "outputId": "9a3e3459-c5bc-4e74-d2d5-5ec8143c8db1"
      },
      "source": [
        "headline = input(\"Enter headline: \")\n",
        "for cls in [SVClassifiers, LinearSVClassifier,Decisionclassifier,RFClassifier]:\n",
        "    print(cls.__class__.__name__, cls.predict(vectorizer2.transform([pre_process(headline)])))"
      ],
      "execution_count": 18,
      "outputs": [
        {
          "output_type": "stream",
          "text": [
            "Enter headline: kèw\n",
            "SVC [1]\n",
            "LinearSVC [0]\n",
            "DecisionTreeClassifier [1]\n",
            "RandomForestClassifier [1]\n"
          ],
          "name": "stdout"
        }
      ]
    },
    {
      "cell_type": "markdown",
      "metadata": {
        "id": "7f5kvHqTIgto",
        "colab_type": "text"
      },
      "source": [
        "#* Thử trên Data crawl được từ bạn Dương"
      ]
    },
    {
      "cell_type": "code",
      "metadata": {
        "id": "VLdVOPGxIAXE",
        "colab_type": "code",
        "colab": {
          "base_uri": "https://localhost:8080/",
          "height": 411
        },
        "outputId": "9d244ce5-a05f-45b2-fe5b-861d5702309f"
      },
      "source": [
        "!wget https://raw.githubusercontent.com/duongcscx/CS114.K21.KHTN/master/huffpost.json\n",
        "!wget https://raw.githubusercontent.com/duongcscx/CS114.K21.KHTN/master/theonion.json"
      ],
      "execution_count": 19,
      "outputs": [
        {
          "output_type": "stream",
          "text": [
            "--2020-06-25 13:54:49--  https://raw.githubusercontent.com/duongcscx/CS114.K21.KHTN/master/huffpost.json\n",
            "Resolving raw.githubusercontent.com (raw.githubusercontent.com)... 151.101.0.133, 151.101.64.133, 151.101.128.133, ...\n",
            "Connecting to raw.githubusercontent.com (raw.githubusercontent.com)|151.101.0.133|:443... connected.\n",
            "HTTP request sent, awaiting response... 200 OK\n",
            "Length: 160023 (156K) [text/plain]\n",
            "Saving to: ‘huffpost.json’\n",
            "\n",
            "\rhuffpost.json         0%[                    ]       0  --.-KB/s               \rhuffpost.json       100%[===================>] 156.27K  --.-KB/s    in 0.04s   \n",
            "\n",
            "2020-06-25 13:54:49 (3.66 MB/s) - ‘huffpost.json’ saved [160023/160023]\n",
            "\n",
            "--2020-06-25 13:54:51--  https://raw.githubusercontent.com/duongcscx/CS114.K21.KHTN/master/theonion.json\n",
            "Resolving raw.githubusercontent.com (raw.githubusercontent.com)... 151.101.0.133, 151.101.64.133, 151.101.128.133, ...\n",
            "Connecting to raw.githubusercontent.com (raw.githubusercontent.com)|151.101.0.133|:443... connected.\n",
            "HTTP request sent, awaiting response... 200 OK\n",
            "Length: 309885 (303K) [text/plain]\n",
            "Saving to: ‘theonion.json’\n",
            "\n",
            "theonion.json       100%[===================>] 302.62K  --.-KB/s    in 0.05s   \n",
            "\n",
            "2020-06-25 13:54:51 (5.54 MB/s) - ‘theonion.json’ saved [309885/309885]\n",
            "\n"
          ],
          "name": "stdout"
        }
      ]
    },
    {
      "cell_type": "code",
      "metadata": {
        "id": "LRVb5c_TOPXT",
        "colab_type": "code",
        "colab": {}
      },
      "source": [
        "#theonion = pd.read_json('/content/theonion.json', lines=True)\n",
        "Duongdata = pd.read_json('/content/huffpost.json', lines=True)\n",
        "Duongdata = pd.DataFrame(data=Duongdata)\n",
        "#Duongdata = Duongdata.append(theonion)\n",
        "Duongdata=Duongdata.drop(columns='article_link')\n"
      ],
      "execution_count": 20,
      "outputs": []
    },
    {
      "cell_type": "code",
      "metadata": {
        "id": "9Tz7rJFCPSqm",
        "colab_type": "code",
        "colab": {
          "base_uri": "https://localhost:8080/",
          "height": 34
        },
        "outputId": "376d0e9a-effb-4654-ca97-d1932b3bc0d7"
      },
      "source": [
        "Duongdata.head()\n",
        "len(Duongdata)"
      ],
      "execution_count": 21,
      "outputs": [
        {
          "output_type": "execute_result",
          "data": {
            "text/plain": [
              "703"
            ]
          },
          "metadata": {
            "tags": []
          },
          "execution_count": 21
        }
      ]
    },
    {
      "cell_type": "code",
      "metadata": {
        "id": "_tZybeTYOUbE",
        "colab_type": "code",
        "colab": {
          "base_uri": "https://localhost:8080/",
          "height": 751
        },
        "outputId": "0a6e820e-4bdc-4015-9489-053d6b6f0be3"
      },
      "source": [
        "from sklearn.metrics import classification_report\n",
        "Duongdata['headline'] = Duongdata['headline'].apply(lambda x:pre_process(x))\n",
        "DuongX = Duongdata['headline']\n",
        "Duongy = Duongdata['is_sarcastic']\n",
        "\n",
        "DuongX = vectorizer2.fit_transform(DuongX)\n",
        "for cls in [SVClassifiers,LinearSVClassifier, Decisionclassifier,RFClassifier]:\n",
        "    Duongpred = cls.predict(DuongX)\n",
        "    yscore = cls.score(DuongX, Duongy)\n",
        "    print(classification_report(Duongy, Duongpred))\n",
        "    print(cls.__class__.__name__, yscore)"
      ],
      "execution_count": 22,
      "outputs": [
        {
          "output_type": "stream",
          "text": [
            "              precision    recall  f1-score   support\n",
            "\n",
            "           0       1.00      0.84      0.91       703\n",
            "           1       0.00      0.00      0.00         0\n",
            "\n",
            "    accuracy                           0.84       703\n",
            "   macro avg       0.50      0.42      0.46       703\n",
            "weighted avg       1.00      0.84      0.91       703\n",
            "\n",
            "SVC 0.8378378378378378\n",
            "              precision    recall  f1-score   support\n",
            "\n",
            "           0       1.00      0.79      0.88       703\n",
            "           1       0.00      0.00      0.00         0\n",
            "\n",
            "    accuracy                           0.79       703\n",
            "   macro avg       0.50      0.40      0.44       703\n",
            "weighted avg       1.00      0.79      0.88       703\n",
            "\n",
            "LinearSVC 0.7908961593172119\n",
            "              precision    recall  f1-score   support\n",
            "\n",
            "           0       1.00      0.73      0.85       703\n",
            "           1       0.00      0.00      0.00         0\n",
            "\n",
            "    accuracy                           0.73       703\n",
            "   macro avg       0.50      0.37      0.42       703\n",
            "weighted avg       1.00      0.73      0.85       703\n",
            "\n",
            "DecisionTreeClassifier 0.732574679943101\n",
            "              precision    recall  f1-score   support\n",
            "\n",
            "           0       1.00      0.83      0.91       703\n",
            "           1       0.00      0.00      0.00         0\n",
            "\n",
            "    accuracy                           0.83       703\n",
            "   macro avg       0.50      0.42      0.45       703\n",
            "weighted avg       1.00      0.83      0.91       703\n",
            "\n",
            "RandomForestClassifier 0.8321479374110953\n"
          ],
          "name": "stdout"
        },
        {
          "output_type": "stream",
          "text": [
            "/usr/local/lib/python3.6/dist-packages/sklearn/metrics/_classification.py:1272: UndefinedMetricWarning: Recall and F-score are ill-defined and being set to 0.0 in labels with no true samples. Use `zero_division` parameter to control this behavior.\n",
            "  _warn_prf(average, modifier, msg_start, len(result))\n"
          ],
          "name": "stderr"
        }
      ]
    }
  ]
}