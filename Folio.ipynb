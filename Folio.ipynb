{
  "nbformat": 4,
  "nbformat_minor": 0,
  "metadata": {
    "colab": {
      "name": "Folio",
      "provenance": [],
      "collapsed_sections": [],
      "mount_file_id": "1G3k6nH138b-pDkEeO-G0C5IobIjeZQIe",
      "authorship_tag": "ABX9TyPDn+5eSfAEJrJ7sQw8WH0R",
      "include_colab_link": true
    },
    "kernelspec": {
      "name": "python3",
      "display_name": "Python 3"
    }
  },
  "cells": [
    {
      "cell_type": "markdown",
      "metadata": {
        "id": "view-in-github",
        "colab_type": "text"
      },
      "source": [
        "<a href=\"https://colab.research.google.com/github/shaking54/CS114.K21.KHTN/blob/master/Folio.ipynb\" target=\"_parent\"><img src=\"https://colab.research.google.com/assets/colab-badge.svg\" alt=\"Open In Colab\"/></a>"
      ]
    },
    {
      "cell_type": "code",
      "metadata": {
        "id": "1swhkIInJ6Wf",
        "colab_type": "code",
        "colab": {}
      },
      "source": [
        "import zipfile\n",
        "with zipfile.ZipFile(\"/content/drive/My Drive/Folio Leaf Dataset.zip\", 'r') as zip_ref:\n",
        "    zip_ref.extractall(\"/content/\")"
      ],
      "execution_count": null,
      "outputs": []
    },
    {
      "cell_type": "code",
      "metadata": {
        "id": "0G4A0tEAWKWX",
        "colab_type": "code",
        "colab": {}
      },
      "source": [
        "imagenette_map = {\n",
        "    \"ashanti cherry\" : \"ashanti cherry\",\n",
        "     \"barbados cherry\" : \"barbados cherry\",\n",
        "     \"beaumier du perou\" : \"beaumier du perou\",\n",
        "     \"betel\":\"betel\",\n",
        "     \"bitter orange\":\"bitter orange\",\n",
        "     \"caricature plant\":\"caricature plant\",\n",
        "     \"chinese guava\":\"chinese guava\",\n",
        "     \"chocolate tree\":\"chocolate tree\",\n",
        "     \"chrysanthemum\":\"chrysanthemum\",\n",
        "     \"coeur demoiselle\":\"coeur demoiselle\",\n",
        "     \"coffee\":\"coffee\",\n",
        "     \"croton\":\"croton\",\n",
        "     \"duranta gold\":\"duranta gold\",\n",
        "     \"eggplant\":\"eggplant\",\n",
        "     \"ficus\":\"ficus\",\n",
        "     \"fruitcitere\":\"fruitcitere\",\n",
        "     \"geranium\":\"geranium\",\n",
        "     \"guava\":\"guava\",\n",
        "     \"hibiscus\":\"hibiscus\",\n",
        "     \"jackfruit\":\"jackfruit\",\n",
        "     \"ketembilla\":\"ketembilla\",\n",
        "     \"lychee\":\"lychee\",\n",
        "     \"mulberry leaf\":\"mulberry leaf\",\n",
        "     \"papaya\":\"papaya\",\n",
        "     \"pimento\":\"pimento\",\n",
        "     \"pomme jacquot\":\"pomme jacquot\",\n",
        "     \"rose\":\"rose\",\n",
        "     \"star apple\":\"star apple\",\n",
        "     \"sweet olive\":\"sweet olive\",\n",
        "     \"sweet potato\":\"sweet potato\",\n",
        "     \"thevetia\":\"thevetia\",\n",
        "     \"vieux garcon\":\"vieux garcon\",\n",
        "}"
      ],
      "execution_count": null,
      "outputs": []
    },
    {
      "cell_type": "code",
      "metadata": {
        "id": "od6WGRuw1fyp",
        "colab_type": "code",
        "colab": {}
      },
      "source": [
        "labels = [\"ashanti cherry\",\n",
        "     \"barbados cherry\",\n",
        "     \"beaumier du perou\",\n",
        "     \"betel\",\n",
        "     \"bitter orange\",\n",
        "     \"caricature plant\",\n",
        "     \"chinese guava\",\n",
        "     \"chocolate tree\",\n",
        "     \"chrysanthemum\",\n",
        "     \"coeur demoiselle\",\n",
        "     \"coffee\",\n",
        "     \"croton\",\n",
        "     \"duranta gold\",\n",
        "     \"eggplant\",\n",
        "     \"ficus\",\n",
        "     \"fruitcitere\",\n",
        "     \"geranium\",\n",
        "     \"guava\",\n",
        "     \"hibiscus\",\n",
        "     \"jackfruit\",\n",
        "     \"ketembilla\",\n",
        "     \"lychee\",\n",
        "     \"mulberry leaf\",\n",
        "     \"papaya\",\n",
        "     \"pimento\",\n",
        "     \"pomme jacquot\",\n",
        "     \"rose\",\n",
        "     \"star apple\",\n",
        "     \"sweet olive\",\n",
        "     \"sweet potato\",\n",
        "     \"thevetia\",\n",
        "     \"vieux garcon\"]"
      ],
      "execution_count": null,
      "outputs": []
    },
    {
      "cell_type": "code",
      "metadata": {
        "id": "XSa3PehAItEs",
        "colab_type": "code",
        "colab": {
          "base_uri": "https://localhost:8080/",
          "height": 50
        },
        "outputId": "decfd737-d18d-4b5c-fd24-ad95b4adfa12"
      },
      "source": [
        "from keras.preprocessing.image import ImageDataGenerator\n",
        "from keras.preprocessing.image import array_to_img, img_to_array, load_img\n",
        "# create a new generator\n",
        "imagegen = ImageDataGenerator()\n",
        "# load train data\n",
        "train = imagegen.flow_from_directory(\"/content/Folio Leaf Dataset/Folio/train\", class_mode=\"categorical\", shuffle=False, batch_size=128, target_size=(224, 224))\n",
        "# load val data\n",
        "val = imagegen.flow_from_directory(\"/content/Folio Leaf Dataset/Folio/val\", class_mode=\"categorical\", shuffle=False, batch_size=128, target_size=(224, 224))"
      ],
      "execution_count": 61,
      "outputs": [
        {
          "output_type": "stream",
          "text": [
            "Found 478 images belonging to 32 classes.\n",
            "Found 159 images belonging to 32 classes.\n"
          ],
          "name": "stdout"
        }
      ]
    },
    {
      "cell_type": "code",
      "metadata": {
        "id": "J3QkokgD8LMk",
        "colab_type": "code",
        "colab": {
          "base_uri": "https://localhost:8080/",
          "height": 554
        },
        "outputId": "d31d1040-6890-47c1-882f-624ea0bc76d9"
      },
      "source": [
        "train.class_indices"
      ],
      "execution_count": 62,
      "outputs": [
        {
          "output_type": "execute_result",
          "data": {
            "text/plain": [
              "{'ashanti blood': 0,\n",
              " 'barbados cherry': 1,\n",
              " 'beaumier du perou': 2,\n",
              " 'betel': 3,\n",
              " 'bitter orange': 4,\n",
              " 'caricature plant': 5,\n",
              " 'chinese guava': 6,\n",
              " 'chocolate tree': 7,\n",
              " 'chrysanthemum': 8,\n",
              " 'coeur demoiselle': 9,\n",
              " 'coffee': 10,\n",
              " 'croton': 11,\n",
              " 'duranta gold': 12,\n",
              " 'eggplant': 13,\n",
              " 'ficus': 14,\n",
              " 'fruitcitere': 15,\n",
              " 'geranium': 16,\n",
              " 'guava': 17,\n",
              " 'hibiscus': 18,\n",
              " 'jackfruit': 19,\n",
              " 'ketembilla': 20,\n",
              " 'lychee': 21,\n",
              " 'mulberry leaf': 22,\n",
              " 'papaya': 23,\n",
              " 'pimento': 24,\n",
              " 'pomme jacquot': 25,\n",
              " 'rose': 26,\n",
              " 'star apple': 27,\n",
              " 'sweet olive': 28,\n",
              " 'sweet potato': 29,\n",
              " 'thevetia': 30,\n",
              " 'vieux garcon': 31}"
            ]
          },
          "metadata": {
            "tags": []
          },
          "execution_count": 62
        }
      ]
    },
    {
      "cell_type": "code",
      "metadata": {
        "id": "_5c2CXBrAqIK",
        "colab_type": "code",
        "colab": {
          "base_uri": "https://localhost:8080/",
          "height": 1000
        },
        "outputId": "0699cc61-8a22-4937-d394-ca3d4191f8ff"
      },
      "source": [
        "from keras.models import Sequential\n",
        "from keras.layers import Conv2D, MaxPool2D, Flatten, Dense, InputLayer, BatchNormalization, Dropout\n",
        "\n",
        "# build a sequential model\n",
        "model = Sequential()\n",
        "model.add(InputLayer(input_shape=(224, 224, 3)))\n",
        "\n",
        "# 1st conv block\n",
        "model.add(Conv2D(25, (5, 5), activation='relu', strides=(1, 1), padding='same'))\n",
        "model.add(MaxPool2D(pool_size=(2, 2), padding='same'))\n",
        "# 2nd conv block\n",
        "model.add(Conv2D(50, (5, 5), activation='relu', strides=(2, 2), padding='same'))\n",
        "model.add(MaxPool2D(pool_size=(2, 2), padding='same'))\n",
        "model.add(BatchNormalization())\n",
        "# 3rd conv block\n",
        "model.add(Conv2D(70, (3, 3), activation='relu', strides=(2, 2), padding='same'))\n",
        "model.add(MaxPool2D(pool_size=(2, 2), padding='valid'))\n",
        "model.add(BatchNormalization())\n",
        "# ANN block\n",
        "model.add(Flatten())\n",
        "model.add(Dense(units=100, activation='relu'))\n",
        "model.add(Dense(units=100, activation='relu'))\n",
        "model.add(Dropout(0.25))\n",
        "# output layer\n",
        "model.add(Dense(units=32, activation='softmax'))\n",
        "\n",
        "# compile model\n",
        "model.compile(loss='categorical_crossentropy', optimizer=\"adam\", metrics=['accuracy'])\n",
        "# fit on data for 30 epochs\n",
        "model.fit_generator(train, epochs=30, validation_data=val)"
      ],
      "execution_count": 63,
      "outputs": [
        {
          "output_type": "stream",
          "text": [
            "Epoch 1/30\n"
          ],
          "name": "stdout"
        },
        {
          "output_type": "stream",
          "text": [
            "/usr/local/lib/python3.6/dist-packages/keras/utils/data_utils.py:616: UserWarning: The input 1 could not be retrieved. It could be because a worker has died.\n",
            "  UserWarning)\n"
          ],
          "name": "stderr"
        },
        {
          "output_type": "stream",
          "text": [
            "4/4 [==============================] - 133s 33s/step - loss: 4.1117 - accuracy: 0.0063 - val_loss: 19.9202 - val_accuracy: 0.0314\n",
            "Epoch 2/30\n",
            "4/4 [==============================] - 113s 28s/step - loss: 3.3418 - accuracy: 0.0837 - val_loss: 19.3466 - val_accuracy: 0.0314\n",
            "Epoch 3/30\n",
            "4/4 [==============================] - 112s 28s/step - loss: 3.0556 - accuracy: 0.1506 - val_loss: 23.4970 - val_accuracy: 0.0314\n",
            "Epoch 4/30\n",
            "4/4 [==============================] - 112s 28s/step - loss: 2.7350 - accuracy: 0.2238 - val_loss: 24.2864 - val_accuracy: 0.0566\n",
            "Epoch 5/30\n",
            "4/4 [==============================] - 111s 28s/step - loss: 2.4907 - accuracy: 0.2992 - val_loss: 25.3669 - val_accuracy: 0.0629\n",
            "Epoch 6/30\n",
            "4/4 [==============================] - 112s 28s/step - loss: 2.1706 - accuracy: 0.3703 - val_loss: 26.9156 - val_accuracy: 0.0503\n",
            "Epoch 7/30\n",
            "4/4 [==============================] - 111s 28s/step - loss: 1.9046 - accuracy: 0.4540 - val_loss: 24.4485 - val_accuracy: 0.0503\n",
            "Epoch 8/30\n",
            "4/4 [==============================] - 112s 28s/step - loss: 1.6728 - accuracy: 0.5209 - val_loss: 22.1725 - val_accuracy: 0.0503\n",
            "Epoch 9/30\n",
            "4/4 [==============================] - 112s 28s/step - loss: 1.4273 - accuracy: 0.6130 - val_loss: 20.6413 - val_accuracy: 0.0503\n",
            "Epoch 10/30\n",
            "4/4 [==============================] - 111s 28s/step - loss: 1.2461 - accuracy: 0.6234 - val_loss: 26.0494 - val_accuracy: 0.0440\n",
            "Epoch 11/30\n",
            "4/4 [==============================] - 111s 28s/step - loss: 0.9957 - accuracy: 0.7259 - val_loss: 21.1069 - val_accuracy: 0.0566\n",
            "Epoch 12/30\n",
            "4/4 [==============================] - 112s 28s/step - loss: 0.8746 - accuracy: 0.7636 - val_loss: 20.4264 - val_accuracy: 0.0629\n",
            "Epoch 13/30\n",
            "4/4 [==============================] - 111s 28s/step - loss: 0.7469 - accuracy: 0.7950 - val_loss: 23.2018 - val_accuracy: 0.0629\n",
            "Epoch 14/30\n",
            "4/4 [==============================] - 112s 28s/step - loss: 0.5544 - accuracy: 0.8556 - val_loss: 23.2703 - val_accuracy: 0.0629\n",
            "Epoch 15/30\n",
            "4/4 [==============================] - 111s 28s/step - loss: 0.5594 - accuracy: 0.8264 - val_loss: 19.3724 - val_accuracy: 0.0692\n",
            "Epoch 16/30\n",
            "4/4 [==============================] - 113s 28s/step - loss: 0.4755 - accuracy: 0.8828 - val_loss: 16.6722 - val_accuracy: 0.0881\n",
            "Epoch 17/30\n",
            "4/4 [==============================] - 111s 28s/step - loss: 0.3586 - accuracy: 0.9163 - val_loss: 16.1669 - val_accuracy: 0.0881\n",
            "Epoch 18/30\n",
            "4/4 [==============================] - 113s 28s/step - loss: 0.3209 - accuracy: 0.9079 - val_loss: 14.6160 - val_accuracy: 0.0566\n",
            "Epoch 19/30\n",
            "4/4 [==============================] - 110s 28s/step - loss: 0.2495 - accuracy: 0.9331 - val_loss: 14.9781 - val_accuracy: 0.0629\n",
            "Epoch 20/30\n",
            "4/4 [==============================] - 114s 28s/step - loss: 0.1926 - accuracy: 0.9623 - val_loss: 13.3763 - val_accuracy: 0.0755\n",
            "Epoch 21/30\n",
            "4/4 [==============================] - 111s 28s/step - loss: 0.2048 - accuracy: 0.9435 - val_loss: 13.9672 - val_accuracy: 0.0629\n",
            "Epoch 22/30\n",
            "4/4 [==============================] - 112s 28s/step - loss: 0.1467 - accuracy: 0.9665 - val_loss: 13.3197 - val_accuracy: 0.0629\n",
            "Epoch 23/30\n",
            "4/4 [==============================] - 112s 28s/step - loss: 0.1560 - accuracy: 0.9603 - val_loss: 9.4279 - val_accuracy: 0.0629\n",
            "Epoch 24/30\n",
            "4/4 [==============================] - 111s 28s/step - loss: 0.1056 - accuracy: 0.9791 - val_loss: 8.2766 - val_accuracy: 0.0755\n",
            "Epoch 25/30\n",
            "4/4 [==============================] - 112s 28s/step - loss: 0.0880 - accuracy: 0.9916 - val_loss: 7.9907 - val_accuracy: 0.0755\n",
            "Epoch 26/30\n",
            "4/4 [==============================] - 111s 28s/step - loss: 0.0821 - accuracy: 0.9854 - val_loss: 7.6144 - val_accuracy: 0.0881\n",
            "Epoch 27/30\n",
            "4/4 [==============================] - 112s 28s/step - loss: 0.0617 - accuracy: 0.9916 - val_loss: 6.2401 - val_accuracy: 0.1132\n",
            "Epoch 28/30\n",
            "4/4 [==============================] - 111s 28s/step - loss: 0.0681 - accuracy: 0.9874 - val_loss: 4.5977 - val_accuracy: 0.1447\n",
            "Epoch 29/30\n",
            "4/4 [==============================] - 112s 28s/step - loss: 0.0652 - accuracy: 0.9916 - val_loss: 4.1580 - val_accuracy: 0.1447\n",
            "Epoch 30/30\n",
            "4/4 [==============================] - 112s 28s/step - loss: 0.0654 - accuracy: 0.9812 - val_loss: 5.0853 - val_accuracy: 0.1195\n"
          ],
          "name": "stdout"
        },
        {
          "output_type": "execute_result",
          "data": {
            "text/plain": [
              "<keras.callbacks.callbacks.History at 0x7fa7f4ca3cc0>"
            ]
          },
          "metadata": {
            "tags": []
          },
          "execution_count": 63
        }
      ]
    },
    {
      "cell_type": "code",
      "metadata": {
        "id": "tRFZ-ME5OWIc",
        "colab_type": "code",
        "colab": {
          "base_uri": "https://localhost:8080/",
          "height": 319
        },
        "outputId": "c8cac208-61e5-404b-9a78-53a46cb95de0"
      },
      "source": [
        "import matplotlib.pyplot as plt\n",
        "path = input()\n",
        "image = load_img(path, target_size=(224,224))\n",
        "image = img_to_array(image)\n",
        "image = np.expand_dims(image, axis=0)\n",
        "print(labels[model.predict_classes(image)[0]])\n",
        "image = np.reshape(image, (224,224,3))\n",
        "pic = array_to_img(image)\n",
        "plt.imshow(pic)"
      ],
      "execution_count": 131,
      "outputs": [
        {
          "output_type": "stream",
          "text": [
            "/content/Folio Leaf Dataset/Folio/val/rose/IMG_5296.JPG\n",
            "hibiscus\n"
          ],
          "name": "stdout"
        },
        {
          "output_type": "execute_result",
          "data": {
            "text/plain": [
              "<matplotlib.image.AxesImage at 0x7fa7f8824080>"
            ]
          },
          "metadata": {
            "tags": []
          },
          "execution_count": 131
        },
        {
          "output_type": "display_data",
          "data": {
            "image/png": "[encoded data removed]",
            "text/plain": [
              "<Figure size 432x288 with 1 Axes>"
            ]
          },
          "metadata": {
            "tags": [],
            "needs_background": "light"
          }
        }
      ]
    },
    {
      "cell_type": "code",
      "metadata": {
        "id": "11rDfxnxLgXC",
        "colab_type": "code",
        "colab": {}
      },
      "source": [
        ""
      ],
      "execution_count": null,
      "outputs": []
    }
  ]
}