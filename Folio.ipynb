{
  "nbformat": 4,
  "nbformat_minor": 0,
  "metadata": {
    "colab": {
      "name": "Folio",
      "provenance": [],
      "collapsed_sections": [],
      "mount_file_id": "1G3k6nH138b-pDkEeO-G0C5IobIjeZQIe",
      "authorship_tag": "ABX9TyN10iKH504kwdpy4HDVctAZ",
      "include_colab_link": true
    },
    "kernelspec": {
      "name": "python3",
      "display_name": "Python 3"
    }
  },
  "cells": [
    {
      "cell_type": "markdown",
      "metadata": {
        "id": "view-in-github",
        "colab_type": "text"
      },
      "source": [
        "<a href=\"https://colab.research.google.com/github/shaking54/CS114.K21.KHTN/blob/master/Folio.ipynb\" target=\"_parent\"><img src=\"https://colab.research.google.com/assets/colab-badge.svg\" alt=\"Open In Colab\"/></a>"
      ]
    },
    {
      "cell_type": "code",
      "metadata": {
        "id": "1swhkIInJ6Wf",
        "colab_type": "code",
        "colab": {}
      },
      "source": [
        "import zipfile\n",
        "with zipfile.ZipFile(\"/content/drive/My Drive/Folio Leaf Dataset.zip\", 'r') as zip_ref:\n",
        "    zip_ref.extractall(\"/content/\")"
      ],
      "execution_count": 1,
      "outputs": []
    },
    {
      "cell_type": "code",
      "metadata": {
        "id": "AhOXAlu3_14h",
        "colab_type": "code",
        "colab": {
          "base_uri": "https://localhost:8080/",
          "height": 35
        },
        "outputId": "021b267a-3e32-4a5b-c481-4d7aa85a54c4"
      },
      "source": [
        "import tensorflow as tf\n",
        "import IPython.display as display\n",
        "from PIL import Image\n",
        "import numpy as np\n",
        "import matplotlib.pyplot as plt\n",
        "import os\n",
        "import cv2\n",
        "import pandas as pd\n",
        "tf.__version__"
      ],
      "execution_count": 2,
      "outputs": [
        {
          "output_type": "execute_result",
          "data": {
            "application/vnd.google.colaboratory.intrinsic": {
              "type": "string"
            },
            "text/plain": [
              "'2.2.0'"
            ]
          },
          "metadata": {
            "tags": []
          },
          "execution_count": 2
        }
      ]
    },
    {
      "cell_type": "code",
      "metadata": {
        "id": "4WsdlNOxYfW9",
        "colab_type": "code",
        "colab": {
          "base_uri": "https://localhost:8080/",
          "height": 34
        },
        "outputId": "8f89628d-6fe2-486c-d56e-0e4336ebc95c"
      },
      "source": [
        "import keras\n",
        "from keras.models import Sequential\n",
        "from keras.layers import Dense, Dropout, Flatten\n",
        "from keras.layers import Conv2D, MaxPooling2D\n",
        "from keras.utils import to_categorical\n",
        "from keras.preprocessing import image\n",
        "import numpy as np\n",
        "import pandas as pd\n",
        "import matplotlib.pyplot as plt\n",
        "from sklearn.model_selection import train_test_split\n",
        "from tqdm import tqdm\n",
        "def load_images_from_folder(pathdir):\n",
        "    images = []\n",
        "    labels = []\n",
        "    for folder in os.listdir(pathdir):\n",
        "      for filename in os.listdir(pathdir+'/'+folder):\n",
        "          if filename.endswith('.jpg') or filename.endswith('.JPG') :\n",
        "            img = image.load_img(pathdir+'/'+folder+'/'+filename,grayscale=True, target_size=(256,128,3))\n",
        "            #img = image.img_to_array(img)\n",
        "            #img=img/255\n",
        "            images.append(img)\n",
        "            labels.append(folder)\n",
        "    return images, labels\n"
      ],
      "execution_count": 3,
      "outputs": [
        {
          "output_type": "stream",
          "text": [
            "Using TensorFlow backend.\n"
          ],
          "name": "stderr"
        }
      ]
    },
    {
      "cell_type": "code",
      "metadata": {
        "id": "oYA432onisXk",
        "colab_type": "code",
        "colab": {}
      },
      "source": [
        "X_train, y_train = load_images_from_folder('/content/Folio Leaf Dataset/Folio/train')"
      ],
      "execution_count": 4,
      "outputs": []
    },
    {
      "cell_type": "code",
      "metadata": {
        "id": "oBbYd2DPR2Ix",
        "colab_type": "code",
        "colab": {}
      },
      "source": [
        "from skimage.feature import hog\n",
        "\n",
        "def feature_extraction(img):\n",
        "    features, hog_img = hog(img, orientations=9, pixels_per_cell=(8, 8), \n",
        "                    cells_per_block=(2, 2), visualize=True, multichannel=True)\n",
        "    return features, hog_img\n"
      ],
      "execution_count": 12,
      "outputs": []
    },
    {
      "cell_type": "code",
      "metadata": {
        "id": "5nZgVGsMTDqC",
        "colab_type": "code",
        "colab": {}
      },
      "source": [
        "def get_feature(data):\n",
        "    features = []\n",
        "    for image in data:\n",
        "        f, hog_img = feature_extraction(image)\n",
        "        f=f/255\n",
        "        features.append(f)\n",
        "    return features\n",
        "    "
      ],
      "execution_count": 30,
      "outputs": []
    },
    {
      "cell_type": "code",
      "metadata": {
        "id": "3Xg3YoyHTa-8",
        "colab_type": "code",
        "colab": {}
      },
      "source": [
        "X_features = get_feature(X_train)"
      ],
      "execution_count": 31,
      "outputs": []
    },
    {
      "cell_type": "code",
      "metadata": {
        "id": "3HlxD4-oseSd",
        "colab_type": "code",
        "colab": {}
      },
      "source": [
        "X_features = np.asarray(X_features, dtype=np.float32)\n",
        "y_train = np.asarray(y_train)"
      ],
      "execution_count": 32,
      "outputs": []
    },
    {
      "cell_type": "code",
      "metadata": {
        "id": "CVA1C9lEuEdw",
        "colab_type": "code",
        "colab": {}
      },
      "source": [
        "X_features = np.reshape(X_features, (X_features.shape[0], -1))"
      ],
      "execution_count": 33,
      "outputs": []
    },
    {
      "cell_type": "code",
      "metadata": {
        "id": "MKlPqTxnzlzp",
        "colab_type": "code",
        "colab": {
          "base_uri": "https://localhost:8080/",
          "height": 34
        },
        "outputId": "32632991-6f3b-48cf-bcf4-40d6abda9a65"
      },
      "source": [
        "X_features[0].shape"
      ],
      "execution_count": 34,
      "outputs": [
        {
          "output_type": "execute_result",
          "data": {
            "text/plain": [
              "(26244,)"
            ]
          },
          "metadata": {
            "tags": []
          },
          "execution_count": 34
        }
      ]
    },
    {
      "cell_type": "code",
      "metadata": {
        "id": "o9nuditQsEoJ",
        "colab_type": "code",
        "colab": {
          "base_uri": "https://localhost:8080/",
          "height": 85
        },
        "outputId": "accec225-9bc9-4a49-9f6e-993cf9c24a8a"
      },
      "source": [
        "from sklearn.svm import SVC\n",
        "\n",
        "clf = SVC(C=2)\n",
        "clf.fit(X_features, y_train)"
      ],
      "execution_count": 60,
      "outputs": [
        {
          "output_type": "execute_result",
          "data": {
            "text/plain": [
              "SVC(C=2, break_ties=False, cache_size=200, class_weight=None, coef0=0.0,\n",
              "    decision_function_shape='ovr', degree=3, gamma='scale', kernel='rbf',\n",
              "    max_iter=-1, probability=False, random_state=None, shrinking=True,\n",
              "    tol=0.001, verbose=False)"
            ]
          },
          "metadata": {
            "tags": []
          },
          "execution_count": 60
        }
      ]
    },
    {
      "cell_type": "code",
      "metadata": {
        "id": "iAmCQstcxH1I",
        "colab_type": "code",
        "colab": {}
      },
      "source": [
        "X_valid, y_valid = load_images_from_folder('/content/Folio Leaf Dataset/Folio/val')\n",
        "X_valid = get_feature(X_valid)\n",
        "X_valid = np.asarray(X_valid, dtype=np.float32)\n",
        "y_valid = np.asarray(y_valid)\n",
        "X_valid = np.reshape(X_valid, (X_valid.shape[0], -1))"
      ],
      "execution_count": 36,
      "outputs": []
    },
    {
      "cell_type": "code",
      "metadata": {
        "id": "42txcw8GxfUs",
        "colab_type": "code",
        "colab": {}
      },
      "source": [
        "ypred = clf.predict(X_valid)"
      ],
      "execution_count": 61,
      "outputs": []
    },
    {
      "cell_type": "code",
      "metadata": {
        "id": "nmAEA3lLxxoG",
        "colab_type": "code",
        "colab": {
          "base_uri": "https://localhost:8080/",
          "height": 34
        },
        "outputId": "8ba1ebf1-b967-4b12-dc74-c99ed22f221d"
      },
      "source": [
        "from sklearn.metrics import accuracy_score\n",
        "\n",
        "yscore = accuracy_score(y_valid, ypred)\n",
        "yscore"
      ],
      "execution_count": 62,
      "outputs": [
        {
          "output_type": "execute_result",
          "data": {
            "text/plain": [
              "0.559748427672956"
            ]
          },
          "metadata": {
            "tags": []
          },
          "execution_count": 62
        }
      ]
    },
    {
      "cell_type": "code",
      "metadata": {
        "id": "jsuTiDT_W9QM",
        "colab_type": "code",
        "colab": {
          "base_uri": "https://localhost:8080/",
          "height": 571
        },
        "outputId": "374a3dc8-9808-4795-ae99-883a0f9e2e10"
      },
      "source": [
        "from sklearn.cluster import KMeans\n",
        "\n",
        "kmean = KMeans(n_clusters=32)\n",
        "kmean.fit(X_features)\n",
        "print(kmean.labels_)\n",
        "\n",
        "kpred = kmean.predict(X_valid)\n",
        "kscore = accuracy_score(y_valid, kpred)\n",
        "kscore"
      ],
      "execution_count": 48,
      "outputs": [
        {
          "output_type": "stream",
          "text": [
            "[ 4 21 10 10 21 10 21  4 28 10 21 10  4 21 21  4  4  3  4  4  4  4  4  4\n",
            "  4  4  4  4  4  4  1  1  1  1  1  1  1  1  1  1  1  1  1  1  1 28 20 28\n",
            " 17 20 20 20 20 17 20 24 20  7 26  2 16 16 16 16  9 16  0  0 16  0  0 16\n",
            " 16  8 20 23 24 24 18 18 18 18  2 18 18 28 18 26 28 13  5 16 16 16 16 16\n",
            " 16  9  5 16  0 16 16 16 23 26  5 23 23 23 20 18 23 23 28 23 23 22 26 11\n",
            " 11 16  7 16  8  8 11  8  8 11 11 11 14 16 14  7 23  7  7  7  7  2  7  5\n",
            " 31 20  7  2  2  2 29  2 12 29 29 29 29 29 29 29 12 23 12 12 29 12 30 29\n",
            " 29 29 30 23 19 19 15 19 12 30  7 30 17 28 28  7  7  7 30  7 30 29  2  7\n",
            " 13 20 28 28 13  9  9 28  9 28  9  9  9  9 13  9  9  9  0  0 28 10 10  3\n",
            "  0 28  1  0 28 28  0  0  0  6  6  6  6  6  6  6  6  6  6  6  6  6  6  6\n",
            " 25 25  0 28 25 16  0 13 25  9 25 25 25  5 25 16  0  0  1 13  0 13 16 10\n",
            "  9 13  0  0  5  4  4  4  5  5  5  5 18  3  5  5  5  4  4 23  8  8 23 20\n",
            "  8  8  8 22 26 26  2  8  9 26  5  5  5  5  5  5  5  5  5  5  5  5  5  5\n",
            "  5  2 27 31 27 31 31 16 31 31 27 16 31 27 31 31  2  2  2 24 24  2  2  2\n",
            " 24 20  2  2  2  2 24  4  4  5  4  4  4  3  4  4  3  3  4  3  3  4 22 13\n",
            " 13 22  8 22 16  2  8 22  8  8 22 16 22 28  0 10 16 10  0 24 10 28 10  5\n",
            " 10 10 28 28  8  7 20  7  7 28 23 20 23 26 26  7  7  7  7  0 28  0 24 17\n",
            "  0  5  0 24  0  6 24  0  0  0  7  2  2  2  2  2  2 29  2  7  2  7  2  2\n",
            "  2  5 14  5  5  5 14  5  5  5  5  5  5  5 28  5 24 20  9  1 20  1  1  1\n",
            " 24 10  4  9  1  3 24  4  3  4  1  4  4  3  3  4  4  4  4  3  3  3]\n"
          ],
          "name": "stdout"
        },
        {
          "output_type": "error",
          "ename": "AttributeError",
          "evalue": "ignored",
          "traceback": [
            "\u001b[0;31m---------------------------------------------------------------------------\u001b[0m",
            "\u001b[0;31mAttributeError\u001b[0m                            Traceback (most recent call last)",
            "\u001b[0;32m<ipython-input-48-37f67174a532>\u001b[0m in \u001b[0;36m<module>\u001b[0;34m()\u001b[0m\n\u001b[1;32m      6\u001b[0m \u001b[0;34m\u001b[0m\u001b[0m\n\u001b[1;32m      7\u001b[0m \u001b[0mkpred\u001b[0m \u001b[0;34m=\u001b[0m \u001b[0mkmean\u001b[0m\u001b[0;34m.\u001b[0m\u001b[0mpredict\u001b[0m\u001b[0;34m(\u001b[0m\u001b[0mX_valid\u001b[0m\u001b[0;34m)\u001b[0m\u001b[0;34m\u001b[0m\u001b[0;34m\u001b[0m\u001b[0m\n\u001b[0;32m----> 8\u001b[0;31m \u001b[0mprint\u001b[0m\u001b[0;34m(\u001b[0m\u001b[0mkpred\u001b[0m\u001b[0;34m.\u001b[0m\u001b[0mlabels_\u001b[0m\u001b[0;34m)\u001b[0m\u001b[0;34m\u001b[0m\u001b[0;34m\u001b[0m\u001b[0m\n\u001b[0m\u001b[1;32m      9\u001b[0m \u001b[0mkscore\u001b[0m \u001b[0;34m=\u001b[0m \u001b[0maccuracy_score\u001b[0m\u001b[0;34m(\u001b[0m\u001b[0my_valid\u001b[0m\u001b[0;34m,\u001b[0m \u001b[0mkpred\u001b[0m\u001b[0;34m)\u001b[0m\u001b[0;34m\u001b[0m\u001b[0;34m\u001b[0m\u001b[0m\n\u001b[1;32m     10\u001b[0m \u001b[0mkscore\u001b[0m\u001b[0;34m\u001b[0m\u001b[0;34m\u001b[0m\u001b[0m\n",
            "\u001b[0;31mAttributeError\u001b[0m: 'numpy.ndarray' object has no attribute 'labels_'"
          ]
        }
      ]
    },
    {
      "cell_type": "code",
      "metadata": {
        "id": "YV0ruRd2YOS9",
        "colab_type": "code",
        "colab": {
          "base_uri": "https://localhost:8080/",
          "height": 34
        },
        "outputId": "834a65c3-0619-4123-afb2-c190838d1e9c"
      },
      "source": [
        ""
      ],
      "execution_count": 53,
      "outputs": [
        {
          "output_type": "stream",
          "text": [
            "{0, 1, 3, 4, 5, 6, 7, 8, 10, 11, 12, 13, 16, 18, 20, 21, 22, 23, 24, 25, 26, 28, 29, 31}\n"
          ],
          "name": "stdout"
        }
      ]
    },
    {
      "cell_type": "code",
      "metadata": {
        "id": "HUe7QiFWyXus",
        "colab_type": "code",
        "colab": {}
      },
      "source": [
        "def predict_one_image(path):\n",
        "    img = image.load_img(path, target_size=(224,224,3))\n",
        "    img = image.img_to_array(img)\n",
        "    img=img/255\n",
        "    img = np.asarray(img, dtype=np.float32)\n",
        "    img = img.reshape(1, img.shape[0]*img.shape[1]*img.shape[2])\n",
        "    return img"
      ],
      "execution_count": null,
      "outputs": []
    },
    {
      "cell_type": "code",
      "metadata": {
        "id": "6oJ_kYamyFw9",
        "colab_type": "code",
        "colab": {
          "base_uri": "https://localhost:8080/",
          "height": 51
        },
        "outputId": "d19dec54-af3b-4392-fd8f-180ea55b803e"
      },
      "source": [
        "path = input()\n",
        "clf.predict(predict_one_image(path))"
      ],
      "execution_count": null,
      "outputs": [
        {
          "output_type": "stream",
          "text": [
            "/content/Folio Leaf Dataset/Folio/val/coffee/20150324_154930.jpg\n"
          ],
          "name": "stdout"
        },
        {
          "output_type": "execute_result",
          "data": {
            "text/plain": [
              "array(['coffee'], dtype='<U17')"
            ]
          },
          "metadata": {
            "tags": []
          },
          "execution_count": 87
        }
      ]
    },
    {
      "cell_type": "code",
      "metadata": {
        "id": "nmnaYdvQ1BHx",
        "colab_type": "code",
        "colab": {}
      },
      "source": [
        ""
      ],
      "execution_count": null,
      "outputs": []
    },
    {
      "cell_type": "code",
      "metadata": {
        "id": "B8p3mw0WaAge",
        "colab_type": "code",
        "colab": {}
      },
      "source": [
        "/content/Folio Leaf Dataset/Folio/val/lychee/20150714_110426.jpgdatatrain = load_images_from_folder('/content/Folio Leaf Dataset/Folio/train')"
      ],
      "execution_count": null,
      "outputs": []
    },
    {
      "cell_type": "code",
      "metadata": {
        "id": "vIMrgwcPAQQd",
        "colab_type": "code",
        "colab": {}
      },
      "source": [
        "CLASS_NAMES = np.array([item.name for item in data_dir.glob('*') if item.name != \"Plants list.pdf\"])\n",
        "CLASS_NAMES"
      ],
      "execution_count": null,
      "outputs": []
    },
    {
      "cell_type": "code",
      "metadata": {
        "id": "BK7GWRRLAzZp",
        "colab_type": "code",
        "colab": {}
      },
      "source": [
        "# ashantiblood = list(data_dir.glob('ashanti blood/*'))\n",
        "\n",
        "# for image_path in ashantiblood[:3]:\n",
        "#     display.display(Image.open(str(image_path)))"
      ],
      "execution_count": null,
      "outputs": []
    },
    {
      "cell_type": "code",
      "metadata": {
        "id": "J2q9gmYOCE1i",
        "colab_type": "code",
        "colab": {}
      },
      "source": [
        "image_count = len(list(data_dir.glob('*/*.jpg')))\n",
        "BATCH_SIZE = 32\n",
        "IMG_HEIGHT = 224\n",
        "IMG_WIDTH = 224\n",
        "STEPS_PER_EPOCH = np.ceil(image_count/BATCH_SIZE)"
      ],
      "execution_count": null,
      "outputs": []
    },
    {
      "cell_type": "code",
      "metadata": {
        "id": "XSa3PehAItEs",
        "colab_type": "code",
        "colab": {}
      },
      "source": [
        "from keras.preprocessing.image import ImageDataGenerator\n",
        "from keras.preprocessing.image import array_to_img, img_to_array, load_img\n",
        "# create a new generator\n",
        "imagegen = ImageDataGenerator(rescale=1./255)\n",
        "# load train data\n",
        "train = imagegen.flow_from_directory(\"/content/Folio Leaf Dataset/Folio/train\", class_mode=\"categorical\", shuffle=False, batch_size=128, target_size=(224, 224))\n",
        "# load val data\n",
        "val = imagegen.flow_from_directory(\"/content/Folio Leaf Dataset/Folio/val\", class_mode=\"categorical\", shuffle=False, batch_size=128, target_size=(224, 224))"
      ],
      "execution_count": null,
      "outputs": []
    },
    {
      "cell_type": "code",
      "metadata": {
        "id": "11rDfxnxLgXC",
        "colab_type": "code",
        "colab": {}
      },
      "source": [
        "plt.figure(figsize=(18, 4))\n",
        "plt.plot(model.history['loss'], label = 'train')\n",
        "plt.plot(model.history['val_loss'], label = 'valid')\n",
        "plt.legend()\n",
        "plt.title('Loss Function')\n",
        "plt.show()"
      ],
      "execution_count": null,
      "outputs": []
    },
    {
      "cell_type": "code",
      "metadata": {
        "id": "6r-DMoh4b0Zj",
        "colab_type": "code",
        "colab": {}
      },
      "source": [
        ""
      ],
      "execution_count": null,
      "outputs": []
    }
  ]
}