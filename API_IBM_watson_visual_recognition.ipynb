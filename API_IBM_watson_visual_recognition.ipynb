{
  "nbformat": 4,
  "nbformat_minor": 0,
  "metadata": {
    "colab": {
      "name": "API_IBM_watson_visual_recognition.ipynb",
      "provenance": [],
      "collapsed_sections": [],
      "toc_visible": true,
      "authorship_tag": "ABX9TyMgMFViwwngVwuMO66HxvJD",
      "include_colab_link": true
    },
    "kernelspec": {
      "name": "python3",
      "display_name": "Python 3"
    }
  },
  "cells": [
    {
      "cell_type": "markdown",
      "metadata": {
        "id": "view-in-github",
        "colab_type": "text"
      },
      "source": [
        "<a href=\"https://colab.research.google.com/github/shaking54/CS114.K21.KHTN/blob/master/API_IBM_watson_visual_recognition.ipynb\" target=\"_parent\"><img src=\"https://colab.research.google.com/assets/colab-badge.svg\" alt=\"Open In Colab\"/></a>"
      ]
    },
    {
      "cell_type": "code",
      "metadata": {
        "id": "ggyRtPKLygYj",
        "colab_type": "code",
        "colab": {
          "base_uri": "https://localhost:8080/",
          "height": 367
        },
        "outputId": "cad16090-b8e1-4c88-f03a-0b7b3352ba29"
      },
      "source": [
        ""
      ],
      "execution_count": 2,
      "outputs": [
        {
          "output_type": "error",
          "ename": "ModuleNotFoundError",
          "evalue": "ignored",
          "traceback": [
            "\u001b[0;31m---------------------------------------------------------------------------\u001b[0m",
            "\u001b[0;31mModuleNotFoundError\u001b[0m                       Traceback (most recent call last)",
            "\u001b[0;32m<ipython-input-2-f99c5e1e8897>\u001b[0m in \u001b[0;36m<module>\u001b[0;34m()\u001b[0m\n\u001b[0;32m----> 1\u001b[0;31m \u001b[0;32mfrom\u001b[0m \u001b[0mibm_watson\u001b[0m \u001b[0;32mimport\u001b[0m \u001b[0mMyService\u001b[0m\u001b[0;34m\u001b[0m\u001b[0;34m\u001b[0m\u001b[0m\n\u001b[0m\u001b[1;32m      2\u001b[0m \u001b[0;32mfrom\u001b[0m \u001b[0mibm_cloud_sdk_core\u001b[0m\u001b[0;34m.\u001b[0m\u001b[0mauthenticators\u001b[0m \u001b[0;32mimport\u001b[0m \u001b[0mIAMAuthenticator\u001b[0m\u001b[0;34m\u001b[0m\u001b[0;34m\u001b[0m\u001b[0m\n\u001b[1;32m      3\u001b[0m \u001b[0;34m\u001b[0m\u001b[0m\n\u001b[1;32m      4\u001b[0m \u001b[0mauthenticator\u001b[0m \u001b[0;34m=\u001b[0m \u001b[0mIAMAuthenticator\u001b[0m\u001b[0;34m(\u001b[0m\u001b[0;34m'656bca73-b606-4d88-90c2-cb221d3667a9'\u001b[0m\u001b[0;34m)\u001b[0m\u001b[0;34m\u001b[0m\u001b[0;34m\u001b[0m\u001b[0m\n\u001b[1;32m      5\u001b[0m service = MyService(\n",
            "\u001b[0;31mModuleNotFoundError\u001b[0m: No module named 'ibm_watson'",
            "",
            "\u001b[0;31m---------------------------------------------------------------------------\u001b[0;32m\nNOTE: If your import is failing due to a missing package, you can\nmanually install dependencies using either !pip or !apt.\n\nTo view examples of installing some common dependencies, click the\n\"Open Examples\" button below.\n\u001b[0;31m---------------------------------------------------------------------------\u001b[0m\n"
          ]
        }
      ]
    },
    {
      "cell_type": "code",
      "metadata": {
        "id": "a1_kUj-2ylt_",
        "colab_type": "code",
        "outputId": "0d4adfd9-9a85-4a29-c76a-e870deacec53",
        "colab": {
          "base_uri": "https://localhost:8080/",
          "height": 476
        }
      },
      "source": [
        "pip install --upgrade \"ibm-watson>=4.3.0\""
      ],
      "execution_count": 3,
      "outputs": [
        {
          "output_type": "stream",
          "text": [
            "Collecting ibm-watson>=4.3.0\n",
            "\u001b[?25l  Downloading https://files.pythonhosted.org/packages/68/b8/b0cbd12e1813a8cc936619e88e1c54a3475dcb38aff7595b339ddf75fd39/ibm-watson-4.3.0.tar.gz (360kB)\n",
            "\u001b[K     |████████████████████████████████| 368kB 4.8MB/s \n",
            "\u001b[?25hRequirement already satisfied, skipping upgrade: requests<3.0,>=2.0 in /usr/local/lib/python3.6/dist-packages (from ibm-watson>=4.3.0) (2.21.0)\n",
            "Requirement already satisfied, skipping upgrade: python_dateutil>=2.5.3 in /usr/local/lib/python3.6/dist-packages (from ibm-watson>=4.3.0) (2.8.1)\n",
            "Collecting websocket-client==0.48.0\n",
            "\u001b[?25l  Downloading https://files.pythonhosted.org/packages/8a/a1/72ef9aa26cfe1a75cee09fc1957e4723add9de098c15719416a1ee89386b/websocket_client-0.48.0-py2.py3-none-any.whl (198kB)\n",
            "\u001b[K     |████████████████████████████████| 204kB 45.7MB/s \n",
            "\u001b[?25hCollecting ibm_cloud_sdk_core==1.5.1\n",
            "  Downloading https://files.pythonhosted.org/packages/b7/f6/10d5271c807d73d236e6ae07b68035fed78b28b5ab836704d34097af3986/ibm-cloud-sdk-core-1.5.1.tar.gz\n",
            "Requirement already satisfied, skipping upgrade: certifi>=2017.4.17 in /usr/local/lib/python3.6/dist-packages (from requests<3.0,>=2.0->ibm-watson>=4.3.0) (2019.11.28)\n",
            "Requirement already satisfied, skipping upgrade: urllib3<1.25,>=1.21.1 in /usr/local/lib/python3.6/dist-packages (from requests<3.0,>=2.0->ibm-watson>=4.3.0) (1.24.3)\n",
            "Requirement already satisfied, skipping upgrade: idna<2.9,>=2.5 in /usr/local/lib/python3.6/dist-packages (from requests<3.0,>=2.0->ibm-watson>=4.3.0) (2.8)\n",
            "Requirement already satisfied, skipping upgrade: chardet<3.1.0,>=3.0.2 in /usr/local/lib/python3.6/dist-packages (from requests<3.0,>=2.0->ibm-watson>=4.3.0) (3.0.4)\n",
            "Requirement already satisfied, skipping upgrade: six>=1.5 in /usr/local/lib/python3.6/dist-packages (from python_dateutil>=2.5.3->ibm-watson>=4.3.0) (1.12.0)\n",
            "Collecting PyJWT>=1.7.1\n",
            "  Downloading https://files.pythonhosted.org/packages/87/8b/6a9f14b5f781697e51259d81657e6048fd31a113229cf346880bb7545565/PyJWT-1.7.1-py2.py3-none-any.whl\n",
            "Building wheels for collected packages: ibm-watson, ibm-cloud-sdk-core\n",
            "  Building wheel for ibm-watson (setup.py) ... \u001b[?25l\u001b[?25hdone\n",
            "  Created wheel for ibm-watson: filename=ibm_watson-4.3.0-cp36-none-any.whl size=354170 sha256=ed724871e75380bdc22427493f04269775c5bb11515d0591922b3e5068c3a987\n",
            "  Stored in directory: /root/.cache/pip/wheels/b7/10/b4/509307276e9d558a6b06d8e69f8faf6cfbdf2d1b83abb6b8d4\n",
            "  Building wheel for ibm-cloud-sdk-core (setup.py) ... \u001b[?25l\u001b[?25hdone\n",
            "  Created wheel for ibm-cloud-sdk-core: filename=ibm_cloud_sdk_core-1.5.1-cp36-none-any.whl size=44491 sha256=ecf5e8ee943a3c05ba919e78e323d7309b155b758e6c4b84f20e5e840a1b2531\n",
            "  Stored in directory: /root/.cache/pip/wheels/6a/42/50/f96888116b329578304f9dda4693cef6f3e76e18272d22cb6c\n",
            "Successfully built ibm-watson ibm-cloud-sdk-core\n",
            "Installing collected packages: websocket-client, PyJWT, ibm-cloud-sdk-core, ibm-watson\n",
            "Successfully installed PyJWT-1.7.1 ibm-cloud-sdk-core-1.5.1 ibm-watson-4.3.0 websocket-client-0.48.0\n"
          ],
          "name": "stdout"
        }
      ]
    },
    {
      "cell_type": "code",
      "metadata": {
        "id": "j2swvZlKzeqq",
        "colab_type": "code",
        "colab": {
          "base_uri": "https://localhost:8080/",
          "height": 306
        },
        "outputId": "0bc9b566-19cd-4b25-9b67-b79ffe43b1b4"
      },
      "source": [
        "import json\n",
        "from ibm_watson import VisualRecognitionV4\n",
        "from ibm_cloud_sdk_core.authenticators import IAMAuthenticator\n",
        "\n",
        "authenticator = IAMAuthenticator('P25ojmx0GDFuNUemlfT1-mbW9H89wZSgpyKJxrjVbvLD')\n",
        "visual_recognition = VisualRecognitionV4(\n",
        "    version='2019-02-11',\n",
        "    authenticator=authenticator\n",
        ")\n",
        "\n",
        "visual_recognition.set_service_url('https://api.us-south.visual-recognition.watson.cloud.ibm.com/instances/8344294d-ae94-4dc3-901b-5aa57b7e01b8')\n",
        "\n",
        "result = visual_recognition.get_collection(\n",
        "    collection_id='656bca73-b606-4d88-90c2-cb221d3667a9').get_result()\n",
        "print(json.dumps(result, indent=2))"
      ],
      "execution_count": 16,
      "outputs": [
        {
          "output_type": "stream",
          "text": [
            "{\n",
            "  \"collection_id\": \"656bca73-b606-4d88-90c2-cb221d3667a9\",\n",
            "  \"name\": \"New-Collection\",\n",
            "  \"description\": \"\",\n",
            "  \"created\": \"2020-04-01T06:15:27.418Z\",\n",
            "  \"updated\": \"2020-04-01T06:19:11.111Z\",\n",
            "  \"image_count\": 11,\n",
            "  \"training_status\": {\n",
            "    \"objects\": {\n",
            "      \"ready\": true,\n",
            "      \"in_progress\": false,\n",
            "      \"data_changed\": false,\n",
            "      \"latest_failed\": false,\n",
            "      \"description\": \"Training complete.\"\n",
            "    }\n",
            "  }\n",
            "}\n"
          ],
          "name": "stdout"
        }
      ]
    },
    {
      "cell_type": "code",
      "metadata": {
        "id": "OxKrnfNXj6eF",
        "colab_type": "code",
        "colab": {
          "base_uri": "https://localhost:8080/",
          "height": 1000
        },
        "outputId": "aeb057dc-c011-4acb-b766-d53931783951"
      },
      "source": [
        "import json\n",
        "import os\n",
        "from ibm_watson import VisualRecognitionV4\n",
        "from ibm_watson.visual_recognition_v4 import FileWithMetadata, TrainingDataObject, Location, AnalyzeEnums\n",
        "from ibm_cloud_sdk_core.authenticators import IAMAuthenticator\n",
        "\n",
        "\n",
        "authenticator = IAMAuthenticator('P25ojmx0GDFuNUemlfT1-mbW9H89wZSgpyKJxrjVbvLD')\n",
        "visual_recognition = VisualRecognitionV4(\n",
        "    version='2019-02-11',\n",
        "    authenticator=authenticator\n",
        ")\n",
        "\n",
        "visual_recognition.set_service_url('https://api.us-south.visual-recognition.watson.cloud.ibm.com/instances/8344294d-ae94-4dc3-901b-5aa57b7e01b8')\n",
        "\n",
        "with open('cat10.jpeg', 'rb') as honda_file, open('cat8.jpeg', 'rb') as dice_file:\n",
        "    result = visual_recognition.analyze(\n",
        "        collection_ids=[\"656bca73-b606-4d88-90c2-cb221d3667a9\"],\n",
        "        features=[AnalyzeEnums.Features.OBJECTS.value],\n",
        "        images_file=[\n",
        "            FileWithMetadata(honda_file),\n",
        "            FileWithMetadata(dice_file)\n",
        "        ]).get_result()\n",
        "    print(json.dumps(result, indent=2))"
      ],
      "execution_count": 21,
      "outputs": [
        {
          "output_type": "stream",
          "text": [
            "{\n",
            "  \"images\": [\n",
            "    {\n",
            "      \"source\": {\n",
            "        \"type\": \"file\",\n",
            "        \"filename\": \"cat10.jpeg\"\n",
            "      },\n",
            "      \"dimensions\": {\n",
            "        \"height\": 168,\n",
            "        \"width\": 300\n",
            "      },\n",
            "      \"objects\": {\n",
            "        \"collections\": [\n",
            "          {\n",
            "            \"collection_id\": \"656bca73-b606-4d88-90c2-cb221d3667a9\",\n",
            "            \"objects\": [\n",
            "              {\n",
            "                \"object\": \"cat\",\n",
            "                \"location\": {\n",
            "                  \"left\": 64,\n",
            "                  \"top\": 14,\n",
            "                  \"width\": 167,\n",
            "                  \"height\": 141\n",
            "                },\n",
            "                \"score\": 0.9930072\n",
            "              }\n",
            "            ]\n",
            "          }\n",
            "        ]\n",
            "      }\n",
            "    },\n",
            "    {\n",
            "      \"source\": {\n",
            "        \"type\": \"file\",\n",
            "        \"filename\": \"cat8.jpeg\"\n",
            "      },\n",
            "      \"dimensions\": {\n",
            "        \"height\": 168,\n",
            "        \"width\": 300\n",
            "      },\n",
            "      \"objects\": {\n",
            "        \"collections\": [\n",
            "          {\n",
            "            \"collection_id\": \"656bca73-b606-4d88-90c2-cb221d3667a9\",\n",
            "            \"objects\": [\n",
            "              {\n",
            "                \"object\": \"cat\",\n",
            "                \"location\": {\n",
            "                  \"left\": 125,\n",
            "                  \"top\": 18,\n",
            "                  \"width\": 143,\n",
            "                  \"height\": 116\n",
            "                },\n",
            "                \"score\": 0.9908279\n",
            "              }\n",
            "            ]\n",
            "          }\n",
            "        ]\n",
            "      }\n",
            "    }\n",
            "  ]\n",
            "}\n"
          ],
          "name": "stdout"
        }
      ]
    },
    {
      "cell_type": "code",
      "metadata": {
        "id": "Yqk4Rq96kETh",
        "colab_type": "code",
        "colab": {}
      },
      "source": [
        ""
      ],
      "execution_count": 0,
      "outputs": []
    }
  ]
}